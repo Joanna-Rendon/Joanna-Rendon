{
  "cells": [
    {
      "cell_type": "code",
      "execution_count": null,
      "id": "0de2312a",
      "metadata": {
        "id": "0de2312a"
      },
      "outputs": [],
      "source": [
        "#Import libraries\n",
        "import pandas as pd\n",
        "import numpy as np\n",
        "import matplotlib.pyplot as plt\n",
        "import seaborn as sns\n",
        "from sklearn.preprocessing import StandardScaler\n",
        "import scipy as sp\n",
        "from scipy import stats\n",
        "from imblearn.over_sampling import SMOTE\n",
        "from sklearn.linear_model import LinearRegression\n",
        "from sklearn.linear_model import LogisticRegression\n",
        "from sklearn.model_selection import train_test_split\n",
        "from scipy.stats import f_oneway\n",
        "from sklearn.metrics import confusion_matrix\n",
        "from sklearn.metrics import roc_curve, auc\n",
        "\n",
        "# suppressing warnings\n",
        "import warnings\n",
        "warnings.filterwarnings('ignore')"
      ]
    },
    {
      "cell_type": "code",
      "execution_count": null,
      "id": "2f50cdd1",
      "metadata": {
        "id": "2f50cdd1"
      },
      "outputs": [],
      "source": [
        "#Read the speed_price_att file and save it as df1\n",
        "#data sets\n",
        "df1 = pd.read_csv('speed_price_att (1).csv')\n",
        "df2 =  pd.read_csv('speed_price_att_other_cities (1).csv')\n",
        "df3 =  pd.read_csv('speed_price_centurylink (1).csv')\n",
        "df4 =  pd.read_csv('speed_price_earthlink (1).csv')\n",
        "df5 =  pd.read_csv('speed_price_verizon (1).csv')"
      ]
    },
    {
      "cell_type": "code",
      "execution_count": null,
      "id": "e75b66c6",
      "metadata": {
        "id": "e75b66c6"
      },
      "outputs": [],
      "source": [
        "#Merge the five files\n",
        "df = pd.concat(([df1, df2, df3, df4, df5]), ignore_index=True)\n",
        "df.head()"
      ]
    },
    {
      "cell_type": "code",
      "execution_count": null,
      "id": "65187d22",
      "metadata": {
        "id": "65187d22",
        "outputId": "dbf6dfc2-925e-4e61-e64a-0bea26244aa5"
      },
      "outputs": [
        {
          "name": "stdout",
          "output_type": "stream",
          "text": [
            "Number_of_rows=1500880 Number_of_columns=34\n"
          ]
        }
      ],
      "source": [
        "#Find number of rows and columns of the data frame\n",
        "Number_of_rows=df.shape[0]\n",
        "Number_of_columns=df.shape[1]\n",
        "\n",
        "print(\"Number_of_rows=\"+ str(Number_of_rows),\"Number_of_columns=\"+ str(Number_of_columns))"
      ]
    },
    {
      "cell_type": "code",
      "execution_count": null,
      "id": "919f3f89",
      "metadata": {
        "id": "919f3f89",
        "outputId": "ea9d65aa-e0fa-408f-ff7d-57454d801d06"
      },
      "outputs": [
        {
          "name": "stdout",
          "output_type": "stream",
          "text": [
            "                             missing_percentage\n",
            "address_full                               0.00\n",
            "incorporated_place                         0.00\n",
            "major_city                                 0.00\n",
            "state                                      0.00\n",
            "lat                                        0.00\n",
            "lon                                        0.00\n",
            "block_group                                0.00\n",
            "collection_datetime                        0.00\n",
            "provider                                   0.00\n",
            "speed_down                                 0.00\n",
            "speed_up                                   0.00\n",
            "speed_unit                                20.45\n",
            "price                                     20.88\n",
            "technology                                20.88\n",
            "package                                   20.88\n",
            "fastest_speed_down                         0.00\n",
            "fastest_speed_price                        0.00\n",
            "fn                                         0.00\n",
            "redlining_grade                           53.46\n",
            "race_perc_non_white                        0.00\n",
            "income_lmi                                 6.35\n",
            "ppl_per_sq_mile                            3.35\n",
            "n_providers                                3.35\n",
            "income_dollars_below_median                6.35\n",
            "internet_perc_broadband                    0.17\n",
            "median_household_income                    0.00\n",
            "closest_fiber_miles                       68.74\n",
            "address_full_closest_fiber                68.74\n",
            "lat_closest_fiber                         68.74\n",
            "lon_closest_fiber                         68.74\n",
            "availability_status                       97.76\n",
            "geoid                                     97.76\n",
            "contract_provider                         72.90\n",
            "in_service                                81.17\n"
          ]
        }
      ],
      "source": [
        "#Find the percentage of null values per variable\n",
        "missing_percentage = df.isnull().sum() * 100 / len(df)\n",
        "missing_values = pd.DataFrame({'missing_percentage': missing_percentage})\n",
        "print(round(missing_values,2))"
      ]
    },
    {
      "cell_type": "code",
      "execution_count": null,
      "id": "20abaa14",
      "metadata": {
        "id": "20abaa14"
      },
      "outputs": [],
      "source": [
        "target_variable = 'technology'\n",
        "\n",
        "Places_with_fiber = df[df['technology']=='Fiber'].shape[0] #Number of places that have Fiber as the technology used to serve the cheapest internet plan.\n",
        "\n",
        "Places_without_fiber = df[df['technology']=='Not Fiber'].shape[0] #Number of places that do not have Fiber as the technology used to serve the cheapest internet plan."
      ]
    },
    {
      "cell_type": "code",
      "execution_count": null,
      "id": "c3842485",
      "metadata": {
        "id": "c3842485",
        "outputId": "19e101b1-afab-405d-ae2b-ffe0603cd3ef"
      },
      "outputs": [
        {
          "data": {
            "text/plain": [
              "array(['Not Fiber', 'Fiber', nan, 'Copper', 'Fiber Based', 'Not fiber'],\n",
              "      dtype=object)"
            ]
          },
          "execution_count": 7,
          "metadata": {},
          "output_type": "execute_result"
        }
      ],
      "source": [
        "df['technology'].unique() # Verify how many levels are in the target variable"
      ]
    },
    {
      "cell_type": "code",
      "execution_count": null,
      "id": "2566a6a0",
      "metadata": {
        "id": "2566a6a0"
      },
      "outputs": [],
      "source": [
        "#Unify Fiber Category\n",
        "df['technology'] = df['technology'].str.replace('Fiber Based','Fiber')\n",
        "\n",
        "#Unify Not Fiber Category\n",
        "df['technology'] = df['technology'].str.replace('Not fiber','Not Fiber')\n",
        "df['technology'] = df['technology'].str.replace('Copper','Not Fiber')\n",
        "\n",
        "#Create new level called Unknown\n",
        "df['technology']=df['technology'].fillna('Unknown')"
      ]
    },
    {
      "cell_type": "code",
      "execution_count": null,
      "id": "6114c7f5",
      "metadata": {
        "id": "6114c7f5",
        "outputId": "d54f1842-dbee-4715-e4ba-e1b1fd733eee"
      },
      "outputs": [
        {
          "data": {
            "text/plain": [
              "array(['Not Fiber', 'Fiber', 'Unknown'], dtype=object)"
            ]
          },
          "execution_count": 9,
          "metadata": {},
          "output_type": "execute_result"
        }
      ],
      "source": [
        "df['technology'].unique() # Verify there are 3 levels in the 'technology' variable"
      ]
    },
    {
      "cell_type": "code",
      "execution_count": null,
      "id": "b028202e",
      "metadata": {
        "id": "b028202e",
        "outputId": "172af41e-692f-451b-bf1e-1ee0c003cb56"
      },
      "outputs": [
        {
          "data": {
            "text/html": [
              "<div>\n",
              "<style scoped>\n",
              "    .dataframe tbody tr th:only-of-type {\n",
              "        vertical-align: middle;\n",
              "    }\n",
              "\n",
              "    .dataframe tbody tr th {\n",
              "        vertical-align: top;\n",
              "    }\n",
              "\n",
              "    .dataframe thead th {\n",
              "        text-align: right;\n",
              "    }\n",
              "</style>\n",
              "<table border=\"1\" class=\"dataframe\">\n",
              "  <thead>\n",
              "    <tr style=\"text-align: right;\">\n",
              "      <th></th>\n",
              "      <th>lat</th>\n",
              "      <th>lon</th>\n",
              "      <th>block_group</th>\n",
              "      <th>collection_datetime</th>\n",
              "      <th>speed_down</th>\n",
              "      <th>speed_up</th>\n",
              "      <th>price</th>\n",
              "      <th>fastest_speed_down</th>\n",
              "      <th>fastest_speed_price</th>\n",
              "      <th>race_perc_non_white</th>\n",
              "      <th>income_lmi</th>\n",
              "      <th>ppl_per_sq_mile</th>\n",
              "      <th>n_providers</th>\n",
              "      <th>income_dollars_below_median</th>\n",
              "      <th>internet_perc_broadband</th>\n",
              "      <th>median_household_income</th>\n",
              "      <th>closest_fiber_miles</th>\n",
              "      <th>lat_closest_fiber</th>\n",
              "      <th>lon_closest_fiber</th>\n",
              "      <th>geoid</th>\n",
              "    </tr>\n",
              "  </thead>\n",
              "  <tbody>\n",
              "    <tr>\n",
              "      <th>count</th>\n",
              "      <td>1.500880e+06</td>\n",
              "      <td>1.500880e+06</td>\n",
              "      <td>1.500880e+06</td>\n",
              "      <td>1.500880e+06</td>\n",
              "      <td>1.500880e+06</td>\n",
              "      <td>1.500880e+06</td>\n",
              "      <td>1.187451e+06</td>\n",
              "      <td>1.500880e+06</td>\n",
              "      <td>1.500880e+06</td>\n",
              "      <td>1.500880e+06</td>\n",
              "      <td>1.405528e+06</td>\n",
              "      <td>1.450534e+06</td>\n",
              "      <td>1.450538e+06</td>\n",
              "      <td>1.405528e+06</td>\n",
              "      <td>1.498314e+06</td>\n",
              "      <td>1.500880e+06</td>\n",
              "      <td>469233.000000</td>\n",
              "      <td>469233.000000</td>\n",
              "      <td>469233.000000</td>\n",
              "      <td>3.359200e+04</td>\n",
              "    </tr>\n",
              "    <tr>\n",
              "      <th>mean</th>\n",
              "      <td>3.800794e+01</td>\n",
              "      <td>-9.261584e+01</td>\n",
              "      <td>2.889654e+11</td>\n",
              "      <td>1.651377e+09</td>\n",
              "      <td>1.039443e+02</td>\n",
              "      <td>9.145158e+01</td>\n",
              "      <td>5.242945e+01</td>\n",
              "      <td>8.085975e+02</td>\n",
              "      <td>6.615421e+01</td>\n",
              "      <td>5.663635e-01</td>\n",
              "      <td>1.103511e+00</td>\n",
              "      <td>5.951216e+03</td>\n",
              "      <td>2.430802e+00</td>\n",
              "      <td>-6.273299e+03</td>\n",
              "      <td>8.031914e-01</td>\n",
              "      <td>-2.825719e+07</td>\n",
              "      <td>0.268645</td>\n",
              "      <td>40.313845</td>\n",
              "      <td>-88.381964</td>\n",
              "      <td>4.354868e+11</td>\n",
              "    </tr>\n",
              "    <tr>\n",
              "      <th>std</th>\n",
              "      <td>4.656687e+00</td>\n",
              "      <td>1.486959e+01</td>\n",
              "      <td>1.505735e+11</td>\n",
              "      <td>3.034754e+06</td>\n",
              "      <td>1.196287e+02</td>\n",
              "      <td>1.258120e+02</td>\n",
              "      <td>6.436187e+00</td>\n",
              "      <td>1.444958e+03</td>\n",
              "      <td>5.009321e+01</td>\n",
              "      <td>3.201522e-01</td>\n",
              "      <td>6.049438e-01</td>\n",
              "      <td>9.402988e+03</td>\n",
              "      <td>6.415604e-01</td>\n",
              "      <td>3.653010e+04</td>\n",
              "      <td>1.487993e-01</td>\n",
              "      <td>1.344683e+08</td>\n",
              "      <td>0.588893</td>\n",
              "      <td>3.187474</td>\n",
              "      <td>18.190308</td>\n",
              "      <td>4.035709e+10</td>\n",
              "    </tr>\n",
              "    <tr>\n",
              "      <th>min</th>\n",
              "      <td>2.954798e+01</td>\n",
              "      <td>-1.228352e+02</td>\n",
              "      <td>1.089000e+10</td>\n",
              "      <td>1.650060e+09</td>\n",
              "      <td>0.000000e+00</td>\n",
              "      <td>0.000000e+00</td>\n",
              "      <td>0.000000e+00</td>\n",
              "      <td>0.000000e+00</td>\n",
              "      <td>0.000000e+00</td>\n",
              "      <td>0.000000e+00</td>\n",
              "      <td>4.551747e-02</td>\n",
              "      <td>0.000000e+00</td>\n",
              "      <td>1.000000e+00</td>\n",
              "      <td>-1.978370e+05</td>\n",
              "      <td>0.000000e+00</td>\n",
              "      <td>-6.666667e+08</td>\n",
              "      <td>0.000000</td>\n",
              "      <td>33.292446</td>\n",
              "      <td>-122.787987</td>\n",
              "      <td>3.903510e+11</td>\n",
              "    </tr>\n",
              "    <tr>\n",
              "      <th>25%</th>\n",
              "      <td>3.408330e+01</td>\n",
              "      <td>-9.767138e+01</td>\n",
              "      <td>1.703119e+11</td>\n",
              "      <td>1.650300e+09</td>\n",
              "      <td>5.000000e+00</td>\n",
              "      <td>7.500000e-01</td>\n",
              "      <td>4.995000e+01</td>\n",
              "      <td>5.000000e+00</td>\n",
              "      <td>5.000000e+01</td>\n",
              "      <td>2.700773e-01</td>\n",
              "      <td>6.890299e-01</td>\n",
              "      <td>1.417312e+03</td>\n",
              "      <td>2.000000e+00</td>\n",
              "      <td>-2.200000e+04</td>\n",
              "      <td>7.208481e-01</td>\n",
              "      <td>3.633300e+04</td>\n",
              "      <td>0.000000</td>\n",
              "      <td>39.371925</td>\n",
              "      <td>-106.568200</td>\n",
              "      <td>3.903512e+11</td>\n",
              "    </tr>\n",
              "    <tr>\n",
              "      <th>50%</th>\n",
              "      <td>3.968439e+01</td>\n",
              "      <td>-8.792726e+01</td>\n",
              "      <td>3.105501e+11</td>\n",
              "      <td>1.650448e+09</td>\n",
              "      <td>5.000000e+01</td>\n",
              "      <td>8.000000e+00</td>\n",
              "      <td>5.500000e+01</td>\n",
              "      <td>7.500000e+01</td>\n",
              "      <td>5.995000e+01</td>\n",
              "      <td>5.618661e-01</td>\n",
              "      <td>9.738389e-01</td>\n",
              "      <td>2.714952e+03</td>\n",
              "      <td>2.000000e+00</td>\n",
              "      <td>1.561000e+03</td>\n",
              "      <td>8.347339e-01</td>\n",
              "      <td>5.500000e+04</td>\n",
              "      <td>0.000000</td>\n",
              "      <td>40.668053</td>\n",
              "      <td>-76.032612</td>\n",
              "      <td>4.715700e+11</td>\n",
              "    </tr>\n",
              "    <tr>\n",
              "      <th>75%</th>\n",
              "      <td>4.132368e+01</td>\n",
              "      <td>-8.164285e+01</td>\n",
              "      <td>4.010911e+11</td>\n",
              "      <td>1.650669e+09</td>\n",
              "      <td>2.000000e+02</td>\n",
              "      <td>2.000000e+02</td>\n",
              "      <td>5.500000e+01</td>\n",
              "      <td>1.000000e+03</td>\n",
              "      <td>8.999000e+01</td>\n",
              "      <td>8.958110e-01</td>\n",
              "      <td>1.369039e+00</td>\n",
              "      <td>5.914233e+03</td>\n",
              "      <td>3.000000e+00</td>\n",
              "      <td>1.819800e+04</td>\n",
              "      <td>9.182028e-01</td>\n",
              "      <td>8.150900e+04</td>\n",
              "      <td>0.189807</td>\n",
              "      <td>40.872424</td>\n",
              "      <td>-73.952856</td>\n",
              "      <td>4.715701e+11</td>\n",
              "    </tr>\n",
              "    <tr>\n",
              "      <th>max</th>\n",
              "      <td>4.773402e+01</td>\n",
              "      <td>-7.100151e+01</td>\n",
              "      <td>5.602198e+11</td>\n",
              "      <td>1.664658e+09</td>\n",
              "      <td>2.000000e+03</td>\n",
              "      <td>2.000000e+03</td>\n",
              "      <td>1.149900e+02</td>\n",
              "      <td>5.000000e+03</td>\n",
              "      <td>1.899500e+02</td>\n",
              "      <td>1.000000e+00</td>\n",
              "      <td>5.293818e+00</td>\n",
              "      <td>1.928026e+05</td>\n",
              "      <td>9.000000e+00</td>\n",
              "      <td>8.176200e+04</td>\n",
              "      <td>1.000000e+00</td>\n",
              "      <td>2.500010e+05</td>\n",
              "      <td>14.042257</td>\n",
              "      <td>47.733945</td>\n",
              "      <td>-71.001510</td>\n",
              "      <td>4.715798e+11</td>\n",
              "    </tr>\n",
              "  </tbody>\n",
              "</table>\n",
              "</div>"
            ],
            "text/plain": [
              "                lat           lon   block_group  collection_datetime  \\\n",
              "count  1.500880e+06  1.500880e+06  1.500880e+06         1.500880e+06   \n",
              "mean   3.800794e+01 -9.261584e+01  2.889654e+11         1.651377e+09   \n",
              "std    4.656687e+00  1.486959e+01  1.505735e+11         3.034754e+06   \n",
              "min    2.954798e+01 -1.228352e+02  1.089000e+10         1.650060e+09   \n",
              "25%    3.408330e+01 -9.767138e+01  1.703119e+11         1.650300e+09   \n",
              "50%    3.968439e+01 -8.792726e+01  3.105501e+11         1.650448e+09   \n",
              "75%    4.132368e+01 -8.164285e+01  4.010911e+11         1.650669e+09   \n",
              "max    4.773402e+01 -7.100151e+01  5.602198e+11         1.664658e+09   \n",
              "\n",
              "         speed_down      speed_up         price  fastest_speed_down  \\\n",
              "count  1.500880e+06  1.500880e+06  1.187451e+06        1.500880e+06   \n",
              "mean   1.039443e+02  9.145158e+01  5.242945e+01        8.085975e+02   \n",
              "std    1.196287e+02  1.258120e+02  6.436187e+00        1.444958e+03   \n",
              "min    0.000000e+00  0.000000e+00  0.000000e+00        0.000000e+00   \n",
              "25%    5.000000e+00  7.500000e-01  4.995000e+01        5.000000e+00   \n",
              "50%    5.000000e+01  8.000000e+00  5.500000e+01        7.500000e+01   \n",
              "75%    2.000000e+02  2.000000e+02  5.500000e+01        1.000000e+03   \n",
              "max    2.000000e+03  2.000000e+03  1.149900e+02        5.000000e+03   \n",
              "\n",
              "       fastest_speed_price  race_perc_non_white    income_lmi  \\\n",
              "count         1.500880e+06         1.500880e+06  1.405528e+06   \n",
              "mean          6.615421e+01         5.663635e-01  1.103511e+00   \n",
              "std           5.009321e+01         3.201522e-01  6.049438e-01   \n",
              "min           0.000000e+00         0.000000e+00  4.551747e-02   \n",
              "25%           5.000000e+01         2.700773e-01  6.890299e-01   \n",
              "50%           5.995000e+01         5.618661e-01  9.738389e-01   \n",
              "75%           8.999000e+01         8.958110e-01  1.369039e+00   \n",
              "max           1.899500e+02         1.000000e+00  5.293818e+00   \n",
              "\n",
              "       ppl_per_sq_mile   n_providers  income_dollars_below_median  \\\n",
              "count     1.450534e+06  1.450538e+06                 1.405528e+06   \n",
              "mean      5.951216e+03  2.430802e+00                -6.273299e+03   \n",
              "std       9.402988e+03  6.415604e-01                 3.653010e+04   \n",
              "min       0.000000e+00  1.000000e+00                -1.978370e+05   \n",
              "25%       1.417312e+03  2.000000e+00                -2.200000e+04   \n",
              "50%       2.714952e+03  2.000000e+00                 1.561000e+03   \n",
              "75%       5.914233e+03  3.000000e+00                 1.819800e+04   \n",
              "max       1.928026e+05  9.000000e+00                 8.176200e+04   \n",
              "\n",
              "       internet_perc_broadband  median_household_income  closest_fiber_miles  \\\n",
              "count             1.498314e+06             1.500880e+06        469233.000000   \n",
              "mean              8.031914e-01            -2.825719e+07             0.268645   \n",
              "std               1.487993e-01             1.344683e+08             0.588893   \n",
              "min               0.000000e+00            -6.666667e+08             0.000000   \n",
              "25%               7.208481e-01             3.633300e+04             0.000000   \n",
              "50%               8.347339e-01             5.500000e+04             0.000000   \n",
              "75%               9.182028e-01             8.150900e+04             0.189807   \n",
              "max               1.000000e+00             2.500010e+05            14.042257   \n",
              "\n",
              "       lat_closest_fiber  lon_closest_fiber         geoid  \n",
              "count      469233.000000      469233.000000  3.359200e+04  \n",
              "mean           40.313845         -88.381964  4.354868e+11  \n",
              "std             3.187474          18.190308  4.035709e+10  \n",
              "min            33.292446        -122.787987  3.903510e+11  \n",
              "25%            39.371925        -106.568200  3.903512e+11  \n",
              "50%            40.668053         -76.032612  4.715700e+11  \n",
              "75%            40.872424         -73.952856  4.715701e+11  \n",
              "max            47.733945         -71.001510  4.715798e+11  "
            ]
          },
          "execution_count": 10,
          "metadata": {},
          "output_type": "execute_result"
        }
      ],
      "source": [
        "df.describe()"
      ]
    },
    {
      "cell_type": "code",
      "execution_count": null,
      "id": "8d238689",
      "metadata": {
        "id": "8d238689",
        "outputId": "ef335543-5399-4abf-fa15-53c3d5523494"
      },
      "outputs": [
        {
          "data": {
            "image/png": "[encoded data removed]",
            "text/plain": [
              "<Figure size 640x480 with 1 Axes>"
            ]
          },
          "metadata": {},
          "output_type": "display_data"
        }
      ],
      "source": [
        "sns.set(style=\"white\")\n",
        "tp=sns.countplot(x= \"technology\", hue = \"provider\", data = df)\n",
        "plt.show(tp)"
      ]
    },
    {
      "cell_type": "code",
      "execution_count": null,
      "id": "e1059842",
      "metadata": {
        "id": "e1059842",
        "outputId": "829eb384-3432-415f-c87b-ebd84c40ece5"
      },
      "outputs": [
        {
          "name": "stdout",
          "output_type": "stream",
          "text": [
            "percentage of Fiber is 48.42585683065935\n",
            "percentage of Not Fiber is 30.691127871648632\n",
            "percentage of Unknown is 20.88301529769202\n"
          ]
        }
      ],
      "source": [
        "count_Fiber = len(df[df['technology']=='Fiber'])\n",
        "count_Not_Fiber = len(df[df['technology']=='Not Fiber'])\n",
        "count_Unknown= len(df[df['technology']=='Unknown'])\n",
        "percentage_of_fiber = count_Fiber/(count_Fiber+count_Not_Fiber+count_Unknown)\n",
        "print(\"percentage of Fiber is\", percentage_of_fiber*100)\n",
        "percentage_of_not_fiber = count_Not_Fiber/(count_Fiber+count_Not_Fiber+count_Unknown)\n",
        "print(\"percentage of Not Fiber is\", percentage_of_not_fiber*100)\n",
        "percentage_of_unknown=count_Unknown/(count_Fiber+count_Not_Fiber+count_Unknown)\n",
        "print(\"percentage of Unknown is\", percentage_of_unknown*100)"
      ]
    },
    {
      "cell_type": "code",
      "execution_count": null,
      "id": "af7aedeb",
      "metadata": {
        "id": "af7aedeb",
        "outputId": "921cdafe-8e4c-4ea6-d174-ec5d698c6a4f"
      },
      "outputs": [
        {
          "data": {
            "image/png": "[encoded data removed]",
            "text/plain": [
              "<Figure size 640x480 with 1 Axes>"
            ]
          },
          "metadata": {},
          "output_type": "display_data"
        }
      ],
      "source": [
        "sns.set(style=\"white\")\n",
        "cp=sns.countplot(x='technology', hue = 'state', data = df[df['state']=='CA'])\n",
        "plt.show(cp)"
      ]
    },
    {
      "cell_type": "code",
      "execution_count": null,
      "id": "7d254a80",
      "metadata": {
        "id": "7d254a80",
        "outputId": "6444c29d-037f-472e-8188-27221899d789"
      },
      "outputs": [
        {
          "name": "stdout",
          "output_type": "stream",
          "text": [
            "percentage of Fiber in California is 41.09289966665602\n",
            "percentage of Not Fiber in California is 33.07453912265568\n",
            "percentage of Unknown in California is 25.83256121068831\n"
          ]
        }
      ],
      "source": [
        "count_Fiber_CA=len(df[(df['technology']=='Fiber')&(df['state']=='CA')])\n",
        "count_Not_Fiber_CA = len(df[(df['technology']=='Not Fiber')&(df['state']=='CA')])\n",
        "count_Unknown_CA = len(df[(df['technology']=='Unknown')&(df['state']=='CA')])\n",
        "percentage_of_fiber = count_Fiber_CA/(count_Fiber_CA+count_Not_Fiber_CA +count_Unknown_CA)\n",
        "print(\"percentage of Fiber in California is\", percentage_of_fiber*100)\n",
        "percentage_of_not_fiber = count_Not_Fiber_CA /(count_Fiber_CA+count_Not_Fiber_CA +count_Unknown_CA)\n",
        "print(\"percentage of Not Fiber in California is\", percentage_of_not_fiber*100)\n",
        "percentage_of_unknown=count_Unknown_CA/(count_Fiber_CA+count_Not_Fiber_CA +count_Unknown_CA)\n",
        "print(\"percentage of Unknown in California is\", percentage_of_unknown*100)"
      ]
    },
    {
      "cell_type": "code",
      "execution_count": null,
      "id": "a86e6a15",
      "metadata": {
        "id": "a86e6a15",
        "outputId": "fbc23de2-971a-4f5d-953c-0b7655d39166"
      },
      "outputs": [
        {
          "data": {
            "image/png": "[encoded data removed]",
            "text/plain": [
              "<Figure size 640x480 with 1 Axes>"
            ]
          },
          "metadata": {},
          "output_type": "display_data"
        }
      ],
      "source": [
        "sns.set(style=\"white\")\n",
        "tp=sns.countplot(x='technology', hue = 'state', data = df[df['state']=='TX'], color='red')\n",
        "\n",
        "plt.show(tp)"
      ]
    },
    {
      "cell_type": "code",
      "execution_count": null,
      "id": "1f620590",
      "metadata": {
        "id": "1f620590",
        "outputId": "f8eae096-58fa-44d0-a4ff-547d38bca147"
      },
      "outputs": [
        {
          "name": "stdout",
          "output_type": "stream",
          "text": [
            "percentage of Fiber in Texas is 67.52139047005335\n",
            "percentage of Not Fiber in Texas is 21.094225468084346\n",
            "percentage of Unknown in Texas is 11.384384061862313\n"
          ]
        }
      ],
      "source": [
        "count_Fiber_TX=len(df[(df['technology']=='Fiber')&(df['state']=='TX')])\n",
        "count_Not_Fiber_TX = len(df[(df['technology']=='Not Fiber')&(df['state']=='TX')])\n",
        "count_Unknown_TX = len(df[(df['technology']=='Unknown')&(df['state']=='TX')])\n",
        "percentage_of_fiber = count_Fiber_TX/(count_Fiber_TX+count_Not_Fiber_TX +count_Unknown_TX)\n",
        "print(\"percentage of Fiber in Texas is\", percentage_of_fiber*100)\n",
        "percentage_of_not_fiber = count_Not_Fiber_TX /(count_Fiber_TX+count_Not_Fiber_TX +count_Unknown_TX)\n",
        "print(\"percentage of Not Fiber in Texas is\", percentage_of_not_fiber*100)\n",
        "percentage_of_unknown=count_Unknown_TX/(count_Fiber_TX+count_Not_Fiber_TX +count_Unknown_TX)\n",
        "print(\"percentage of Unknown in Texas is\", percentage_of_unknown*100)"
      ]
    },
    {
      "cell_type": "code",
      "execution_count": null,
      "id": "f320cd7f",
      "metadata": {
        "id": "f320cd7f",
        "outputId": "121b2763-3ed6-41ae-d0c9-caea694399e6"
      },
      "outputs": [
        {
          "data": {
            "image/png": "[encoded data removed]",
            "text/plain": [
              "<Figure size 640x480 with 1 Axes>"
            ]
          },
          "metadata": {},
          "output_type": "display_data"
        }
      ],
      "source": [
        "sns.set(style=\"white\")\n",
        "op=sns.countplot(x='technology', hue = 'state', data = df[df['state']=='OH'], color='yellow')\n",
        "\n",
        "plt.show(op)"
      ]
    },
    {
      "cell_type": "code",
      "execution_count": null,
      "id": "5b2ff792",
      "metadata": {
        "id": "5b2ff792",
        "outputId": "dbb87a80-d3ef-4551-dd5e-e17a6d3a4fc3"
      },
      "outputs": [
        {
          "name": "stdout",
          "output_type": "stream",
          "text": [
            "percentage of Fiber in Ohio is 46.66433607178232\n",
            "percentage of Not Fiber in Ohio is 38.4956010021558\n",
            "percentage of Unknown in Ohio is 14.840062926061877\n"
          ]
        }
      ],
      "source": [
        "count_Fiber_OH=len(df[(df['technology']=='Fiber')&(df['state']=='OH')])\n",
        "count_Not_Fiber_OH = len(df[(df['technology']=='Not Fiber')&(df['state']=='OH')])\n",
        "count_Unknown_OH = len(df[(df['technology']=='Unknown')&(df['state']=='OH')])\n",
        "percentage_of_fiber = count_Fiber_OH/(count_Fiber_OH+count_Not_Fiber_OH +count_Unknown_OH)\n",
        "print(\"percentage of Fiber in Ohio is\", percentage_of_fiber*100)\n",
        "percentage_of_not_fiber = count_Not_Fiber_OH /(count_Fiber_OH+count_Not_Fiber_OH +count_Unknown_OH)\n",
        "print(\"percentage of Not Fiber in Ohio is\", percentage_of_not_fiber*100)\n",
        "percentage_of_unknown=count_Unknown_OH/(count_Fiber_OH+count_Not_Fiber_OH +count_Unknown_OH)\n",
        "print(\"percentage of Unknown in Ohio is\", percentage_of_unknown*100)"
      ]
    },
    {
      "cell_type": "code",
      "execution_count": null,
      "id": "40e787dc",
      "metadata": {
        "id": "40e787dc",
        "outputId": "a88041cc-492a-46d4-a754-9eda388e4605"
      },
      "outputs": [
        {
          "data": {
            "image/png": "[encoded data removed]",
            "text/plain": [
              "<Figure size 640x480 with 1 Axes>"
            ]
          },
          "metadata": {},
          "output_type": "display_data"
        }
      ],
      "source": [
        "sns.set(style=\"white\")\n",
        "ip=sns.countplot(x='technology', hue = 'state', data = df[df['state']=='IL'], color='black')\n",
        "\n",
        "plt.show(ip)"
      ]
    },
    {
      "cell_type": "code",
      "execution_count": null,
      "id": "078b347a",
      "metadata": {
        "id": "078b347a",
        "outputId": "8025b2cf-977b-4d10-c83a-287ee84bea1e"
      },
      "outputs": [
        {
          "name": "stdout",
          "output_type": "stream",
          "text": [
            "percentage of Fiber in Illinois is 30.362671754447625\n",
            "percentage of Not Fiber in Illinois is 28.192833592743217\n",
            "percentage of Unknown in Illinois is 41.44449465280916\n"
          ]
        }
      ],
      "source": [
        "count_Fiber_IL=len(df[(df['technology']=='Fiber')&(df['state']=='IL')])\n",
        "count_Not_Fiber_IL = len(df[(df['technology']=='Not Fiber')&(df['state']=='IL')])\n",
        "count_Unknown_IL = len(df[(df['technology']=='Unknown')&(df['state']=='IL')])\n",
        "percentage_of_fiber = count_Fiber_IL/(count_Fiber_IL+count_Not_Fiber_IL +count_Unknown_IL)\n",
        "print(\"percentage of Fiber in Illinois is\", percentage_of_fiber*100)\n",
        "percentage_of_not_fiber = count_Not_Fiber_IL /(count_Fiber_IL+count_Not_Fiber_IL +count_Unknown_IL)\n",
        "print(\"percentage of Not Fiber in Illinois is\", percentage_of_not_fiber*100)\n",
        "percentage_of_unknown=count_Unknown_IL/(count_Fiber_IL+count_Not_Fiber_IL +count_Unknown_IL)\n",
        "print(\"percentage of Unknown in Illinois is\", percentage_of_unknown*100)"
      ]
    },
    {
      "cell_type": "code",
      "execution_count": null,
      "id": "5039d09c",
      "metadata": {
        "id": "5039d09c",
        "outputId": "0a84b598-b7a1-43f8-bb49-c820adc7f1c9"
      },
      "outputs": [
        {
          "data": {
            "image/png": "[encoded data removed]",
            "text/plain": [
              "<Figure size 640x480 with 1 Axes>"
            ]
          },
          "metadata": {},
          "output_type": "display_data"
        }
      ],
      "source": [
        "sns.set(style=\"white\")\n",
        "np=sns.countplot(x='technology', hue = 'state', data = df[df['state']=='NY'], color='pink')\n",
        "\n",
        "plt.show(np)"
      ]
    },
    {
      "cell_type": "code",
      "execution_count": null,
      "id": "a114e97c",
      "metadata": {
        "id": "a114e97c",
        "outputId": "873ee22f-a61d-498f-e460-3ea2d0bbf260"
      },
      "outputs": [
        {
          "name": "stdout",
          "output_type": "stream",
          "text": [
            "percentage of Fiber in New York is 70.12166732013331\n",
            "percentage of Not Fiber in New York is 0.07474024701039012\n",
            "percentage of Unknown in New York is 29.803592432856302\n"
          ]
        }
      ],
      "source": [
        "count_Fiber_NY=len(df[(df['technology']=='Fiber')&(df['state']=='NY')])\n",
        "count_Not_Fiber_NY = len(df[(df['technology']=='Not Fiber')&(df['state']=='NY')])\n",
        "count_Unknown_NY = len(df[(df['technology']=='Unknown')&(df['state']=='NY')])\n",
        "percentage_of_fiber = count_Fiber_NY/(count_Fiber_NY+count_Not_Fiber_NY +count_Unknown_NY)\n",
        "print(\"percentage of Fiber in New York is\", percentage_of_fiber*100)\n",
        "percentage_of_not_fiber = count_Not_Fiber_NY /(count_Fiber_NY+count_Not_Fiber_NY +count_Unknown_NY)\n",
        "print(\"percentage of Not Fiber in New York is\", percentage_of_not_fiber*100)\n",
        "percentage_of_unknown=count_Unknown_NY/(count_Fiber_NY+count_Not_Fiber_NY +count_Unknown_NY)\n",
        "print(\"percentage of Unknown in New York is\", percentage_of_unknown*100)"
      ]
    },
    {
      "cell_type": "code",
      "execution_count": null,
      "id": "c0802770",
      "metadata": {
        "id": "c0802770",
        "outputId": "d0fe9043-013d-4cb5-fd10-c6e08a53486a"
      },
      "outputs": [
        {
          "data": {
            "text/plain": [
              "provider\n",
              "AT&T           124.657776\n",
              "CenturyLink     94.057853\n",
              "EarthLink       37.825164\n",
              "Verizon        208.683665\n",
              "Name: speed_down, dtype: float64"
            ]
          },
          "execution_count": 23,
          "metadata": {},
          "output_type": "execute_result"
        }
      ],
      "source": [
        "#Average of download net speed per provider in mbps\n",
        "df['speed_down'].groupby(df['provider']).mean()"
      ]
    },
    {
      "cell_type": "code",
      "execution_count": null,
      "id": "81198a2c",
      "metadata": {
        "id": "81198a2c",
        "outputId": "5aa6e69a-268f-40ba-db42-0db4742b28e4"
      },
      "outputs": [
        {
          "name": "stdout",
          "output_type": "stream",
          "text": [
            "   provider state  speed_down_mean  speed_down_min  speed_down_max\n",
            "0      AT&T    AL       187.887501             0.0           300.0\n",
            "1      AT&T    AR       168.968212             0.0           300.0\n",
            "2      AT&T    CA        92.170550             0.0           300.0\n",
            "3      AT&T    FL       147.652776             0.0           500.0\n",
            "4      AT&T    GA       188.216409             0.0           300.0\n",
            "..      ...   ...              ...             ...             ...\n",
            "74  Verizon    NJ       256.612151             0.0           300.0\n",
            "75  Verizon    NY       209.430115             0.0           300.0\n",
            "76  Verizon    PA       287.807044             0.0           300.0\n",
            "77  Verizon    RI       287.892655             0.0           300.0\n",
            "78  Verizon    VA       196.753930             0.0           300.0\n",
            "\n",
            "[79 rows x 5 columns]\n"
          ]
        }
      ],
      "source": [
        "#Average, minimum and maximum download net speed per provider+state in mbps\n",
        "group = df.groupby(['provider', 'state']).agg({'speed_down': ['mean', 'min', 'max']})\n",
        "group.columns = ['speed_down_mean', 'speed_down_min', 'speed_down_max']\n",
        "grouped= group.reset_index()\n",
        "print(grouped)"
      ]
    },
    {
      "cell_type": "code",
      "execution_count": null,
      "id": "afc69316",
      "metadata": {
        "id": "afc69316",
        "outputId": "2c0ca920-4d07-4d1d-96e7-cc014ec0988b"
      },
      "outputs": [
        {
          "name": "stdout",
          "output_type": "stream",
          "text": [
            "Slowest download provider per state:\n",
            "   state  speed_down     provider\n",
            "0     AL         0.0         AT&T\n",
            "1     AR         0.0         AT&T\n",
            "2     AZ         0.0  CenturyLink\n",
            "3     CA         0.0         AT&T\n",
            "4     CO         0.0  CenturyLink\n",
            "5     CT         0.0    EarthLink\n",
            "6     DC         0.0      Verizon\n",
            "7     DE         0.0      Verizon\n",
            "8     FL         0.0         AT&T\n",
            "9     GA         0.0         AT&T\n",
            "10    IA         0.0  CenturyLink\n",
            "11    ID         0.0  CenturyLink\n",
            "12    IL         0.0         AT&T\n",
            "13    IN         0.0         AT&T\n",
            "14    KS         0.0         AT&T\n",
            "15    KY         0.0         AT&T\n",
            "16    LA         0.0         AT&T\n",
            "17    MA         0.0      Verizon\n",
            "18    MD         0.0      Verizon\n",
            "19    MI         0.0         AT&T\n",
            "20    MN         0.0  CenturyLink\n",
            "21    MO         0.0         AT&T\n",
            "22    MS         0.0         AT&T\n",
            "23    MT         0.0  CenturyLink\n",
            "24    NC         0.0         AT&T\n",
            "25    ND         0.0  CenturyLink\n",
            "26    NE         0.0  CenturyLink\n",
            "27    NJ         0.0      Verizon\n",
            "28    NM         0.0  CenturyLink\n",
            "29    NV         0.0  CenturyLink\n",
            "30    NY         0.0      Verizon\n",
            "31    OH         0.0         AT&T\n",
            "32    OK         0.0         AT&T\n",
            "33    OR         0.0  CenturyLink\n",
            "34    PA         0.0      Verizon\n",
            "35    RI         0.0      Verizon\n",
            "36    SC         0.0         AT&T\n",
            "37    SD         0.0  CenturyLink\n",
            "38    TN         0.0         AT&T\n",
            "39    TX         0.0         AT&T\n",
            "40    UT         0.0  CenturyLink\n",
            "41    VA         0.0      Verizon\n",
            "42    WA         0.0  CenturyLink\n",
            "43    WI         0.0         AT&T\n",
            "44    WV         0.0    EarthLink\n",
            "45    WY         0.0  CenturyLink\n",
            "\n",
            "Fastest download provider per state:\n",
            "   state  speed_down     provider\n",
            "0     AL       300.0    EarthLink\n",
            "1     AR       300.0    EarthLink\n",
            "2     AZ       200.0    EarthLink\n",
            "3     CA       300.0    EarthLink\n",
            "4     CO       200.0    EarthLink\n",
            "5     CT       300.0    EarthLink\n",
            "6     DC       300.0      Verizon\n",
            "7     DE       300.0      Verizon\n",
            "8     FL       500.0    EarthLink\n",
            "9     GA       300.0    EarthLink\n",
            "10    IA       200.0    EarthLink\n",
            "11    ID       200.0    EarthLink\n",
            "12    IL       300.0    EarthLink\n",
            "13    IN       300.0    EarthLink\n",
            "14    KS       300.0    EarthLink\n",
            "15    KY       300.0    EarthLink\n",
            "16    LA       300.0    EarthLink\n",
            "17    MA       300.0      Verizon\n",
            "18    MD       300.0      Verizon\n",
            "19    MI      2000.0    EarthLink\n",
            "20    MN       200.0  CenturyLink\n",
            "21    MO       300.0    EarthLink\n",
            "22    MS       300.0         AT&T\n",
            "23    MT       200.0    EarthLink\n",
            "24    NC       300.0    EarthLink\n",
            "25    ND       200.0    EarthLink\n",
            "26    NE       200.0    EarthLink\n",
            "27    NJ       300.0      Verizon\n",
            "28    NM       200.0    EarthLink\n",
            "29    NV       200.0    EarthLink\n",
            "30    NY       300.0      Verizon\n",
            "31    OH       500.0    EarthLink\n",
            "32    OK       300.0    EarthLink\n",
            "33    OR       200.0    EarthLink\n",
            "34    PA       300.0      Verizon\n",
            "35    RI       300.0      Verizon\n",
            "36    SC       300.0    EarthLink\n",
            "37    SD       200.0    EarthLink\n",
            "38    TN       300.0    EarthLink\n",
            "39    TX       300.0    EarthLink\n",
            "40    UT       200.0    EarthLink\n",
            "41    VA       300.0      Verizon\n",
            "42    WA       200.0    EarthLink\n",
            "43    WI       300.0    EarthLink\n",
            "44    WV       300.0    EarthLink\n",
            "45    WY       200.0    EarthLink\n"
          ]
        }
      ],
      "source": [
        "# Group data by state\n",
        "providers_d =df.groupby(['state'])\n",
        "\n",
        "# Find slowest download provider per state in mbps\n",
        "slowest_provider = providers_d['speed_down','provider'].min().reset_index()\n",
        "slowest_provider = slowest_provider.sort_values('state')\n",
        "\n",
        "# Find fastest download provider per state in mbps\n",
        "fastest_provider = providers_d['speed_down','provider'].max().reset_index()\n",
        "fastest_provider = fastest_provider.sort_values('state')\n",
        "\n",
        "# Print results\n",
        "print('Slowest download provider per state:')\n",
        "print(slowest_provider)\n",
        "print()\n",
        "print('Fastest download provider per state:')\n",
        "print(fastest_provider)"
      ]
    },
    {
      "cell_type": "code",
      "execution_count": null,
      "id": "cfc1770b",
      "metadata": {
        "id": "cfc1770b",
        "outputId": "d5e4bd9f-036f-40a1-d952-f61d2d6bf348"
      },
      "outputs": [
        {
          "data": {
            "image/png": "[encoded data removed]",
            "text/plain": [
              "<Figure size 640x480 with 1 Axes>"
            ]
          },
          "metadata": {},
          "output_type": "display_data"
        }
      ],
      "source": [
        "# Find fastest provider\n",
        "fastest_provider = grouped.sort_values('speed_down_mean', ascending=False).iloc[0]['provider']\n",
        "\n",
        "# Plot barchart\n",
        "sns.barplot(x='provider', y='speed_down_mean', data=grouped)\n",
        "\n",
        "# Show plot\n",
        "plt.show()"
      ]
    },
    {
      "cell_type": "code",
      "execution_count": null,
      "id": "be56ebd5",
      "metadata": {
        "id": "be56ebd5",
        "outputId": "77290091-f65e-4e25-fb00-dc0569ce0217"
      },
      "outputs": [
        {
          "data": {
            "text/plain": [
              "provider\n",
              "AT&T           108.387441\n",
              "CenturyLink     68.627156\n",
              "EarthLink       26.870363\n",
              "Verizon        207.882375\n",
              "Name: speed_up, dtype: float64"
            ]
          },
          "execution_count": 27,
          "metadata": {},
          "output_type": "execute_result"
        }
      ],
      "source": [
        "#Average of upload net speed per provider in mbps\n",
        "df['speed_up'].groupby(df['provider']).mean()"
      ]
    },
    {
      "cell_type": "code",
      "execution_count": null,
      "id": "80d8b79f",
      "metadata": {
        "id": "80d8b79f",
        "outputId": "e8e54464-5786-48a8-9983-f9ad7da140af"
      },
      "outputs": [
        {
          "name": "stdout",
          "output_type": "stream",
          "text": [
            "   provider state  speed_up_mean  speed_up_min  speed_up_max\n",
            "0      AT&T    AL     186.550635           0.0         300.0\n",
            "1      AT&T    AR     154.928892           0.0         300.0\n",
            "2      AT&T    CA      78.236705           0.0         300.0\n",
            "3      AT&T    FL     131.248857           0.0         500.0\n",
            "4      AT&T    GA     180.835002           0.0         300.0\n",
            "..      ...   ...            ...           ...           ...\n",
            "74  Verizon    NJ     255.557426           0.0         300.0\n",
            "75  Verizon    NY     209.423487           0.0         300.0\n",
            "76  Verizon    PA     287.655517           0.0         300.0\n",
            "77  Verizon    RI     287.892655           0.0         300.0\n",
            "78  Verizon    VA     194.874056           0.0         300.0\n",
            "\n",
            "[79 rows x 5 columns]\n"
          ]
        }
      ],
      "source": [
        "#Average, minimum and maximum upload net speed per provider+state in mbps\n",
        "group = df.groupby(['provider', 'state']).agg({'speed_up': ['mean', 'min', 'max']})\n",
        "group.columns = ['speed_up_mean', 'speed_up_min', 'speed_up_max']\n",
        "grouped= group.reset_index()\n",
        "print(grouped)"
      ]
    },
    {
      "cell_type": "code",
      "execution_count": null,
      "id": "8ae2554a",
      "metadata": {
        "id": "8ae2554a",
        "outputId": "c5b2c1b6-bf7c-44c0-b167-3c60730ec37a"
      },
      "outputs": [
        {
          "name": "stdout",
          "output_type": "stream",
          "text": [
            "Slowest upload provider per state:\n",
            "   state  speed_up     provider\n",
            "0     AL       0.0         AT&T\n",
            "1     AR       0.0         AT&T\n",
            "2     AZ       0.0  CenturyLink\n",
            "3     CA       0.0         AT&T\n",
            "4     CO       0.0  CenturyLink\n",
            "5     CT       0.0    EarthLink\n",
            "6     DC       0.0      Verizon\n",
            "7     DE       0.0      Verizon\n",
            "8     FL       0.0         AT&T\n",
            "9     GA       0.0         AT&T\n",
            "10    IA       0.0  CenturyLink\n",
            "11    ID       0.0  CenturyLink\n",
            "12    IL       0.0         AT&T\n",
            "13    IN       0.0         AT&T\n",
            "14    KS       0.0         AT&T\n",
            "15    KY       0.0         AT&T\n",
            "16    LA       0.0         AT&T\n",
            "17    MA       0.0      Verizon\n",
            "18    MD       0.0      Verizon\n",
            "19    MI       0.0         AT&T\n",
            "20    MN       0.0  CenturyLink\n",
            "21    MO       0.0         AT&T\n",
            "22    MS       0.0         AT&T\n",
            "23    MT       0.0  CenturyLink\n",
            "24    NC       0.0         AT&T\n",
            "25    ND       0.0  CenturyLink\n",
            "26    NE       0.0  CenturyLink\n",
            "27    NJ       0.0      Verizon\n",
            "28    NM       0.0  CenturyLink\n",
            "29    NV       0.0  CenturyLink\n",
            "30    NY       0.0      Verizon\n",
            "31    OH       0.0         AT&T\n",
            "32    OK       0.0         AT&T\n",
            "33    OR       0.0  CenturyLink\n",
            "34    PA       0.0      Verizon\n",
            "35    RI       0.0      Verizon\n",
            "36    SC       0.0         AT&T\n",
            "37    SD       0.0  CenturyLink\n",
            "38    TN       0.0         AT&T\n",
            "39    TX       0.0         AT&T\n",
            "40    UT       0.0  CenturyLink\n",
            "41    VA       0.0      Verizon\n",
            "42    WA       0.0  CenturyLink\n",
            "43    WI       0.0         AT&T\n",
            "44    WV       0.0    EarthLink\n",
            "45    WY       0.0  CenturyLink\n",
            "\n",
            "Fastest upload provider per state:\n",
            "   state  speed_up     provider\n",
            "0     AL     300.0    EarthLink\n",
            "1     AR     300.0    EarthLink\n",
            "2     AZ     200.0    EarthLink\n",
            "3     CA     300.0    EarthLink\n",
            "4     CO     200.0    EarthLink\n",
            "5     CT     300.0    EarthLink\n",
            "6     DC     300.0      Verizon\n",
            "7     DE     300.0      Verizon\n",
            "8     FL     500.0    EarthLink\n",
            "9     GA     300.0    EarthLink\n",
            "10    IA     200.0    EarthLink\n",
            "11    ID     200.0    EarthLink\n",
            "12    IL     300.0    EarthLink\n",
            "13    IN     300.0    EarthLink\n",
            "14    KS     300.0    EarthLink\n",
            "15    KY     300.0    EarthLink\n",
            "16    LA     300.0    EarthLink\n",
            "17    MA     300.0      Verizon\n",
            "18    MD     300.0      Verizon\n",
            "19    MI    2000.0    EarthLink\n",
            "20    MN     200.0  CenturyLink\n",
            "21    MO     300.0    EarthLink\n",
            "22    MS     300.0         AT&T\n",
            "23    MT     200.0    EarthLink\n",
            "24    NC     300.0    EarthLink\n",
            "25    ND     200.0    EarthLink\n",
            "26    NE     200.0    EarthLink\n",
            "27    NJ     300.0      Verizon\n",
            "28    NM     200.0    EarthLink\n",
            "29    NV     200.0    EarthLink\n",
            "30    NY     300.0      Verizon\n",
            "31    OH     500.0    EarthLink\n",
            "32    OK     300.0    EarthLink\n",
            "33    OR     200.0    EarthLink\n",
            "34    PA     300.0      Verizon\n",
            "35    RI     300.0      Verizon\n",
            "36    SC     300.0    EarthLink\n",
            "37    SD     200.0    EarthLink\n",
            "38    TN     300.0    EarthLink\n",
            "39    TX     300.0    EarthLink\n",
            "40    UT     200.0    EarthLink\n",
            "41    VA     300.0      Verizon\n",
            "42    WA     200.0    EarthLink\n",
            "43    WI     300.0    EarthLink\n",
            "44    WV     300.0    EarthLink\n",
            "45    WY     200.0    EarthLink\n"
          ]
        }
      ],
      "source": [
        "# Group data by state\n",
        "providers_d =df.groupby(['state'])\n",
        "\n",
        "# Find slowest upload provider per state in mbps\n",
        "slowest_provider = providers_d['speed_up','provider'].min().reset_index()\n",
        "slowest_provider = slowest_provider.sort_values('state')\n",
        "\n",
        "# Find fastest upload provider per state in mbps\n",
        "fastest_provider = providers_d['speed_up','provider'].max().reset_index()\n",
        "fastest_provider = fastest_provider.sort_values('state')\n",
        "\n",
        "# Print results\n",
        "print('Slowest upload provider per state:')\n",
        "print(slowest_provider)\n",
        "print()\n",
        "print('Fastest upload provider per state:')\n",
        "print(fastest_provider)"
      ]
    },
    {
      "cell_type": "code",
      "execution_count": null,
      "id": "a37f98ca",
      "metadata": {
        "id": "a37f98ca",
        "outputId": "dda22436-1c04-4549-c627-008d462a500e"
      },
      "outputs": [
        {
          "data": {
            "image/png": "[encoded data removed]",
            "text/plain": [
              "<Figure size 640x480 with 1 Axes>"
            ]
          },
          "metadata": {},
          "output_type": "display_data"
        }
      ],
      "source": [
        "# Find fastest provider\n",
        "fastest_provider = grouped.sort_values('speed_up_mean', ascending=False).iloc[0]['provider']\n",
        "\n",
        "# Plot barchart\n",
        "sns.barplot(x='provider', y='speed_up_mean', data=grouped)\n",
        "\n",
        "# Show plot\n",
        "plt.show()"
      ]
    },
    {
      "cell_type": "code",
      "execution_count": null,
      "id": "311bbaf0",
      "metadata": {
        "id": "311bbaf0",
        "outputId": "d349ccb9-622c-4535-b0b0-5bdebbb961e2"
      },
      "outputs": [
        {
          "data": {
            "text/plain": [
              "provider\n",
              "AT&T            65.00\n",
              "CenturyLink     50.00\n",
              "EarthLink       79.95\n",
              "Verizon        114.99\n",
              "Name: price, dtype: float64"
            ]
          },
          "execution_count": 31,
          "metadata": {},
          "output_type": "execute_result"
        }
      ],
      "source": [
        "#Highest price per provider\n",
        "df['price'].groupby(df['provider']).max()"
      ]
    },
    {
      "cell_type": "code",
      "execution_count": null,
      "id": "5c5eba73",
      "metadata": {
        "id": "5c5eba73",
        "outputId": "f8af635f-486e-4917-a8df-a1d7e6b429b8"
      },
      "outputs": [
        {
          "data": {
            "text/plain": [
              "provider\n",
              "AT&T            0.00\n",
              "CenturyLink    49.00\n",
              "EarthLink      49.95\n",
              "Verizon        39.99\n",
              "Name: price, dtype: float64"
            ]
          },
          "execution_count": 32,
          "metadata": {},
          "output_type": "execute_result"
        }
      ],
      "source": [
        "#Lowest price per provider\n",
        "df['price'].groupby(df['provider']).min()"
      ]
    },
    {
      "cell_type": "code",
      "execution_count": null,
      "id": "2e045096",
      "metadata": {
        "id": "2e045096",
        "outputId": "9e367530-d95e-4acc-918f-16a73abfeafd"
      },
      "outputs": [
        {
          "data": {
            "text/plain": [
              "technology\n",
              "Fiber         0.0\n",
              "Not Fiber    40.0\n",
              "Unknown       NaN\n",
              "Name: price, dtype: float64"
            ]
          },
          "execution_count": 33,
          "metadata": {},
          "output_type": "execute_result"
        }
      ],
      "source": [
        "df['price'].groupby(df['technology']).min()"
      ]
    },
    {
      "cell_type": "code",
      "execution_count": null,
      "id": "c0d80b97",
      "metadata": {
        "id": "c0d80b97",
        "outputId": "86694fb4-2f0c-4d9d-c116-7baca74f8ca0"
      },
      "outputs": [
        {
          "data": {
            "text/plain": [
              "technology\n",
              "Fiber        114.99\n",
              "Not Fiber     79.95\n",
              "Unknown         NaN\n",
              "Name: price, dtype: float64"
            ]
          },
          "execution_count": 34,
          "metadata": {},
          "output_type": "execute_result"
        }
      ],
      "source": [
        "df['price'].groupby(df['technology']).max()"
      ]
    },
    {
      "cell_type": "code",
      "execution_count": null,
      "id": "cc28c49b",
      "metadata": {
        "id": "cc28c49b",
        "outputId": "0f28aa92-2dc9-4b1e-c45b-7fc375bfb2b6"
      },
      "outputs": [
        {
          "name": "stdout",
          "output_type": "stream",
          "text": [
            "   state     provider  price_mean  price_min  price_max\n",
            "0     AL         AT&T   54.950199      30.00      55.00\n",
            "1     AL    EarthLink   59.950000      59.95      59.95\n",
            "2     AR         AT&T   55.000000      55.00      55.00\n",
            "3     AR    EarthLink   59.950000      59.95      59.95\n",
            "4     AZ  CenturyLink   50.000000      50.00      50.00\n",
            "..   ...          ...         ...        ...        ...\n",
            "74    WI         AT&T   54.996546      30.00      55.00\n",
            "75    WI    EarthLink   59.950000      59.95      59.95\n",
            "76    WV    EarthLink   61.362037      49.95      69.95\n",
            "77    WY  CenturyLink   50.000000      50.00      50.00\n",
            "78    WY    EarthLink   49.950000      49.95      49.95\n",
            "\n",
            "[79 rows x 5 columns]\n"
          ]
        }
      ],
      "source": [
        "#Average, minimum and maximum price per provider+state\n",
        "group_s = df.groupby(['state', 'provider']).agg({'price': ['mean', 'min', 'max']})\n",
        "group_s.columns = ['price_mean', 'price_min', 'price_max']\n",
        "grouped_s= group_s.reset_index()\n",
        "print(grouped_s)"
      ]
    },
    {
      "cell_type": "code",
      "execution_count": null,
      "id": "5e215d5c",
      "metadata": {
        "id": "5e215d5c",
        "outputId": "2c019ef4-ea9a-4517-ef11-fbc882487f31"
      },
      "outputs": [
        {
          "name": "stdout",
          "output_type": "stream",
          "text": [
            "Cheapest providers:\n",
            "   state  price     provider\n",
            "0     AL  30.00         AT&T\n",
            "1     AR  55.00         AT&T\n",
            "2     AZ  49.95  CenturyLink\n",
            "3     CA  30.00         AT&T\n",
            "4     CO  49.95  CenturyLink\n",
            "5     CT  49.95    EarthLink\n",
            "6     DC  39.99      Verizon\n",
            "7     DE  39.99      Verizon\n",
            "8     FL   0.00         AT&T\n",
            "9     GA  30.00         AT&T\n",
            "10    IA  49.95  CenturyLink\n",
            "11    ID  49.95  CenturyLink\n",
            "12    IL  30.00         AT&T\n",
            "13    IN  55.00         AT&T\n",
            "14    KS  55.00         AT&T\n",
            "15    KY  30.00         AT&T\n",
            "16    LA  30.00         AT&T\n",
            "17    MA  39.99      Verizon\n",
            "18    MD  39.99      Verizon\n",
            "19    MI   0.00         AT&T\n",
            "20    MN  50.00  CenturyLink\n",
            "21    MO  49.95         AT&T\n",
            "22    MS  55.00         AT&T\n",
            "23    MT  49.95  CenturyLink\n",
            "24    NC   0.00         AT&T\n",
            "25    ND  49.95  CenturyLink\n",
            "26    NE  49.95  CenturyLink\n",
            "27    NJ  39.99      Verizon\n",
            "28    NM  49.00  CenturyLink\n",
            "29    NV  49.95  CenturyLink\n",
            "30    NY  39.99      Verizon\n",
            "31    OH  30.00         AT&T\n",
            "32    OK  30.00         AT&T\n",
            "33    OR  49.95  CenturyLink\n",
            "34    PA  39.99      Verizon\n",
            "35    RI  39.99      Verizon\n",
            "36    SC  30.00         AT&T\n",
            "37    SD  49.95  CenturyLink\n",
            "38    TN  30.00         AT&T\n",
            "39    TX  30.00         AT&T\n",
            "40    UT  49.95  CenturyLink\n",
            "41    VA  39.99      Verizon\n",
            "42    WA  49.95  CenturyLink\n",
            "43    WI  30.00         AT&T\n",
            "44    WV  49.95    EarthLink\n",
            "45    WY  49.95  CenturyLink\n",
            "\n",
            "Most expensive providers:\n",
            "   state   price     provider\n",
            "0     AL   59.95    EarthLink\n",
            "1     AR   59.95    EarthLink\n",
            "2     AZ   50.00    EarthLink\n",
            "3     CA   79.95    EarthLink\n",
            "4     CO   50.00    EarthLink\n",
            "5     CT   69.95    EarthLink\n",
            "6     DC  114.99      Verizon\n",
            "7     DE   49.99      Verizon\n",
            "8     FL   69.95    EarthLink\n",
            "9     GA   65.00    EarthLink\n",
            "10    IA   50.00    EarthLink\n",
            "11    ID   50.00    EarthLink\n",
            "12    IL   59.95    EarthLink\n",
            "13    IN   59.95    EarthLink\n",
            "14    KS   59.95    EarthLink\n",
            "15    KY   59.95    EarthLink\n",
            "16    LA   59.95    EarthLink\n",
            "17    MA   64.99      Verizon\n",
            "18    MD   49.99      Verizon\n",
            "19    MI   59.95    EarthLink\n",
            "20    MN   50.00  CenturyLink\n",
            "21    MO   59.95    EarthLink\n",
            "22    MS   55.00         AT&T\n",
            "23    MT   50.00    EarthLink\n",
            "24    NC   59.95    EarthLink\n",
            "25    ND   50.00    EarthLink\n",
            "26    NE   50.00    EarthLink\n",
            "27    NJ   49.99      Verizon\n",
            "28    NM   50.00    EarthLink\n",
            "29    NV   59.95    EarthLink\n",
            "30    NY  114.99      Verizon\n",
            "31    OH   65.00    EarthLink\n",
            "32    OK   59.95    EarthLink\n",
            "33    OR   69.95    EarthLink\n",
            "34    PA   64.99      Verizon\n",
            "35    RI  114.99      Verizon\n",
            "36    SC   59.95    EarthLink\n",
            "37    SD   50.00    EarthLink\n",
            "38    TN   59.95    EarthLink\n",
            "39    TX   59.95    EarthLink\n",
            "40    UT   50.00    EarthLink\n",
            "41    VA   64.99      Verizon\n",
            "42    WA   50.00    EarthLink\n",
            "43    WI   59.95    EarthLink\n",
            "44    WV   69.95    EarthLink\n",
            "45    WY   50.00    EarthLink\n"
          ]
        }
      ],
      "source": [
        "# Group data by state\n",
        "providers_s = df.groupby(['state'])\n",
        "\n",
        "# Find cheapest provider per state\n",
        "cheapest_providers = providers_s['price','provider'].min().reset_index()\n",
        "cheapest_providers = cheapest_providers.sort_values('state')\n",
        "\n",
        "# Find most expensive provider per state\n",
        "expensive_providers = providers_s['price','provider'].max().reset_index()\n",
        "expensive_providers = expensive_providers.sort_values('state')\n",
        "\n",
        "# Print results\n",
        "print('Cheapest providers:')\n",
        "print(cheapest_providers)\n",
        "print()\n",
        "print('Most expensive providers:')\n",
        "print(expensive_providers)"
      ]
    },
    {
      "cell_type": "code",
      "execution_count": null,
      "id": "77d5598e",
      "metadata": {
        "id": "77d5598e"
      },
      "outputs": [],
      "source": [
        "#Drop 'incorporated_place','lat', 'lon','speed_unit' as these variables do not add value to this analysis\n",
        "df=df.drop(['incorporated_place','lat', 'lon','collection_datetime','speed_unit','race_perc_non_white'], axis=1)"
      ]
    },
    {
      "cell_type": "code",
      "execution_count": null,
      "id": "0b07a471",
      "metadata": {
        "id": "0b07a471"
      },
      "outputs": [],
      "source": [
        "df=df.dropna(thresh=df.shape[0]*0.75,how='all',axis=1) # Drop columns with more than 75% of missing values"
      ]
    },
    {
      "cell_type": "code",
      "execution_count": null,
      "id": "353a1d41",
      "metadata": {
        "id": "353a1d41"
      },
      "outputs": [],
      "source": [
        "numerical_var =  list((set(df.columns) - set(df.dtypes[df.dtypes == object].index))- set(['technology'])) #Find numerical variables\n",
        "categorical_var = list((set(df.columns) - set(df.dtypes[df.dtypes != object].index))- set(['technology']))  #Find categorical variables"
      ]
    },
    {
      "cell_type": "code",
      "execution_count": null,
      "id": "bb90c523",
      "metadata": {
        "id": "bb90c523"
      },
      "outputs": [],
      "source": [
        "zero_variance_numerical_variables =  list(df[sorted(numerical_var)].std()[round(df[sorted(numerical_var)].std(),4)==0].index) # your code to find the\n",
        " #Find numerical variables with standard deviation equal 0 and drop them from the dataframe\n",
        "\n",
        "df = df.drop(zero_variance_numerical_variables, axis=1)"
      ]
    },
    {
      "cell_type": "code",
      "execution_count": null,
      "id": "0f5cf48b",
      "metadata": {
        "id": "0f5cf48b"
      },
      "outputs": [],
      "source": [
        "zero_variance_categorical_variables = [] #Find the categorical variables with zero variance to drop them from the dataframe\n",
        "\n",
        "for i in categorical_var:\n",
        "    if len(df[i].value_counts().index) == 1:\n",
        "        zero_variance_categorical_variables.append(i)\n",
        "\n",
        "df = df.drop(zero_variance_categorical_variables, axis = 1)"
      ]
    },
    {
      "cell_type": "code",
      "execution_count": null,
      "id": "22638867",
      "metadata": {
        "id": "22638867"
      },
      "outputs": [],
      "source": [
        "categorical_var = list((set(df.columns) - set(df.dtypes[df.dtypes != object].index))- set(['technology']))\n",
        "high_cardinality = [] #Find categorical variables with more than 60 levels to drop them from the dataframe\n",
        "\n",
        "for i in categorical_var:\n",
        "    if len(df[i].value_counts().index) > 60:\n",
        "        high_cardinality.append(i)\n",
        "\n",
        "df = df.drop(high_cardinality, axis = 1)"
      ]
    },
    {
      "cell_type": "code",
      "execution_count": null,
      "id": "f8a25b54",
      "metadata": {
        "id": "f8a25b54"
      },
      "outputs": [],
      "source": [
        "#Standardize numerical variables to create consistency among the data\n",
        "num_variables = list((set(df.columns) - set(df.dtypes[df.dtypes == object].index))- set(['price'])) #Find numerical variables remaining in the df and subtract the target variable\n",
        "\n",
        "array = df[num_variables].values\n",
        "data_scaler = StandardScaler().fit(array)\n",
        "\n",
        "df[num_variables] =pd.DataFrame(data_scaler.transform(array))"
      ]
    },
    {
      "cell_type": "code",
      "execution_count": null,
      "id": "e2ed15ed",
      "metadata": {
        "id": "e2ed15ed"
      },
      "outputs": [],
      "source": [
        "# Find numerical values remaining in the dataframe\n",
        "numerical_variables = list((set(df.columns) - set(df.dtypes[df.dtypes == object].index))- set(['technology']))\n",
        "\n",
        "# Find missing values for the numerical columns and overwrite those with median\n",
        "df[numerical_variables] = df[numerical_variables].fillna(df[numerical_variables].median(), inplace = False)\n",
        "\n",
        "# Find numerical values remaining in the dataframe\n",
        "categorical_variables = list((set(df.columns) - set(df.dtypes[df.dtypes != object].index))- set(['technology']))\n",
        "\n",
        "# Find missing values for the categorical columns and overwrite those with the mode\n",
        "df[categorical_variables] = df[categorical_variables].fillna(df[categorical_variables].mode(), inplace = False)\n"
      ]
    },
    {
      "cell_type": "code",
      "execution_count": null,
      "id": "cd3fa73e",
      "metadata": {
        "id": "cd3fa73e",
        "outputId": "e976f1e5-0fd5-4e6b-d554-5d62883c9990"
      },
      "outputs": [
        {
          "data": {
            "text/plain": [
              "[0, 0, 0, 0, 0, 0, 0, 0, 0, 0, 0, 0, 0, 0, 0, 0]"
            ]
          },
          "execution_count": 45,
          "metadata": {},
          "output_type": "execute_result"
        }
      ],
      "source": [
        "[sum(df[i].isnull()) for i in df.columns] # Verify there is no null values"
      ]
    },
    {
      "cell_type": "code",
      "execution_count": null,
      "id": "640e4cc4",
      "metadata": {
        "id": "640e4cc4"
      },
      "outputs": [],
      "source": [
        "df=df[df['technology']!='Unknown']"
      ]
    },
    {
      "cell_type": "code",
      "execution_count": null,
      "id": "55dae4a6",
      "metadata": {
        "id": "55dae4a6"
      },
      "outputs": [],
      "source": [
        "#Create dummy categorical variables\n",
        "categorical_var = list(df.dtypes[df.dtypes == object].index)\n",
        "dummy_categories=pd.get_dummies(df[categorical_var], drop_first=False)\n",
        "df = df.drop(categorical_variables, axis = 1)\n",
        "df = pd.concat([df, dummy_categories], axis = 1)"
      ]
    },
    {
      "cell_type": "code",
      "execution_count": null,
      "id": "148fbd6e",
      "metadata": {
        "id": "148fbd6e",
        "outputId": "d99f3512-5a33-4097-df6e-4df5154a89ed"
      },
      "outputs": [
        {
          "data": {
            "text/html": [
              "<div>\n",
              "<style scoped>\n",
              "    .dataframe tbody tr th:only-of-type {\n",
              "        vertical-align: middle;\n",
              "    }\n",
              "\n",
              "    .dataframe tbody tr th {\n",
              "        vertical-align: top;\n",
              "    }\n",
              "\n",
              "    .dataframe thead th {\n",
              "        text-align: right;\n",
              "    }\n",
              "</style>\n",
              "<table border=\"1\" class=\"dataframe\">\n",
              "  <thead>\n",
              "    <tr style=\"text-align: right;\">\n",
              "      <th></th>\n",
              "      <th>block_group</th>\n",
              "      <th>speed_down</th>\n",
              "      <th>speed_up</th>\n",
              "      <th>price</th>\n",
              "      <th>technology</th>\n",
              "      <th>fastest_speed_down</th>\n",
              "      <th>fastest_speed_price</th>\n",
              "      <th>income_lmi</th>\n",
              "      <th>ppl_per_sq_mile</th>\n",
              "      <th>n_providers</th>\n",
              "      <th>...</th>\n",
              "      <th>state_WA</th>\n",
              "      <th>state_WI</th>\n",
              "      <th>state_WV</th>\n",
              "      <th>state_WY</th>\n",
              "      <th>provider_AT&amp;T</th>\n",
              "      <th>provider_CenturyLink</th>\n",
              "      <th>provider_EarthLink</th>\n",
              "      <th>provider_Verizon</th>\n",
              "      <th>technology_Fiber</th>\n",
              "      <th>technology_Not Fiber</th>\n",
              "    </tr>\n",
              "  </thead>\n",
              "  <tbody>\n",
              "    <tr>\n",
              "      <th>0</th>\n",
              "      <td>-1.846776</td>\n",
              "      <td>-0.862472</td>\n",
              "      <td>-0.723839</td>\n",
              "      <td>55.0</td>\n",
              "      <td>Not Fiber</td>\n",
              "      <td>-0.559068</td>\n",
              "      <td>-0.222669</td>\n",
              "      <td>-1.193115</td>\n",
              "      <td>-0.578447</td>\n",
              "      <td>2.44591</td>\n",
              "      <td>...</td>\n",
              "      <td>0</td>\n",
              "      <td>0</td>\n",
              "      <td>0</td>\n",
              "      <td>0</td>\n",
              "      <td>1</td>\n",
              "      <td>0</td>\n",
              "      <td>0</td>\n",
              "      <td>0</td>\n",
              "      <td>0</td>\n",
              "      <td>1</td>\n",
              "    </tr>\n",
              "    <tr>\n",
              "      <th>1</th>\n",
              "      <td>-1.846776</td>\n",
              "      <td>-0.827096</td>\n",
              "      <td>-0.718943</td>\n",
              "      <td>55.0</td>\n",
              "      <td>Not Fiber</td>\n",
              "      <td>-0.556139</td>\n",
              "      <td>-0.222669</td>\n",
              "      <td>-1.193115</td>\n",
              "      <td>-0.578447</td>\n",
              "      <td>2.44591</td>\n",
              "      <td>...</td>\n",
              "      <td>0</td>\n",
              "      <td>0</td>\n",
              "      <td>0</td>\n",
              "      <td>0</td>\n",
              "      <td>1</td>\n",
              "      <td>0</td>\n",
              "      <td>0</td>\n",
              "      <td>0</td>\n",
              "      <td>0</td>\n",
              "      <td>1</td>\n",
              "    </tr>\n",
              "    <tr>\n",
              "      <th>2</th>\n",
              "      <td>-1.846776</td>\n",
              "      <td>-0.862472</td>\n",
              "      <td>-0.723839</td>\n",
              "      <td>55.0</td>\n",
              "      <td>Not Fiber</td>\n",
              "      <td>-0.559068</td>\n",
              "      <td>-0.222669</td>\n",
              "      <td>-1.193115</td>\n",
              "      <td>-0.578447</td>\n",
              "      <td>2.44591</td>\n",
              "      <td>...</td>\n",
              "      <td>0</td>\n",
              "      <td>0</td>\n",
              "      <td>0</td>\n",
              "      <td>0</td>\n",
              "      <td>1</td>\n",
              "      <td>0</td>\n",
              "      <td>0</td>\n",
              "      <td>0</td>\n",
              "      <td>0</td>\n",
              "      <td>1</td>\n",
              "    </tr>\n",
              "    <tr>\n",
              "      <th>3</th>\n",
              "      <td>-1.846776</td>\n",
              "      <td>-0.827096</td>\n",
              "      <td>-0.718943</td>\n",
              "      <td>55.0</td>\n",
              "      <td>Not Fiber</td>\n",
              "      <td>-0.556139</td>\n",
              "      <td>-0.222669</td>\n",
              "      <td>-1.193115</td>\n",
              "      <td>-0.578447</td>\n",
              "      <td>2.44591</td>\n",
              "      <td>...</td>\n",
              "      <td>0</td>\n",
              "      <td>0</td>\n",
              "      <td>0</td>\n",
              "      <td>0</td>\n",
              "      <td>1</td>\n",
              "      <td>0</td>\n",
              "      <td>0</td>\n",
              "      <td>0</td>\n",
              "      <td>0</td>\n",
              "      <td>1</td>\n",
              "    </tr>\n",
              "    <tr>\n",
              "      <th>4</th>\n",
              "      <td>-1.846776</td>\n",
              "      <td>1.638870</td>\n",
              "      <td>1.657620</td>\n",
              "      <td>55.0</td>\n",
              "      <td>Fiber</td>\n",
              "      <td>2.900711</td>\n",
              "      <td>2.272680</td>\n",
              "      <td>-1.193115</td>\n",
              "      <td>-0.578447</td>\n",
              "      <td>2.44591</td>\n",
              "      <td>...</td>\n",
              "      <td>0</td>\n",
              "      <td>0</td>\n",
              "      <td>0</td>\n",
              "      <td>0</td>\n",
              "      <td>1</td>\n",
              "      <td>0</td>\n",
              "      <td>0</td>\n",
              "      <td>0</td>\n",
              "      <td>1</td>\n",
              "      <td>0</td>\n",
              "    </tr>\n",
              "  </tbody>\n",
              "</table>\n",
              "<p>5 rows × 116 columns</p>\n",
              "</div>"
            ],
            "text/plain": [
              "   block_group  speed_down  speed_up  price technology  fastest_speed_down  \\\n",
              "0    -1.846776   -0.862472 -0.723839   55.0  Not Fiber           -0.559068   \n",
              "1    -1.846776   -0.827096 -0.718943   55.0  Not Fiber           -0.556139   \n",
              "2    -1.846776   -0.862472 -0.723839   55.0  Not Fiber           -0.559068   \n",
              "3    -1.846776   -0.827096 -0.718943   55.0  Not Fiber           -0.556139   \n",
              "4    -1.846776    1.638870  1.657620   55.0      Fiber            2.900711   \n",
              "\n",
              "   fastest_speed_price  income_lmi  ppl_per_sq_mile  n_providers  ...  \\\n",
              "0            -0.222669   -1.193115        -0.578447      2.44591  ...   \n",
              "1            -0.222669   -1.193115        -0.578447      2.44591  ...   \n",
              "2            -0.222669   -1.193115        -0.578447      2.44591  ...   \n",
              "3            -0.222669   -1.193115        -0.578447      2.44591  ...   \n",
              "4             2.272680   -1.193115        -0.578447      2.44591  ...   \n",
              "\n",
              "   state_WA  state_WI  state_WV  state_WY  provider_AT&T  \\\n",
              "0         0         0         0         0              1   \n",
              "1         0         0         0         0              1   \n",
              "2         0         0         0         0              1   \n",
              "3         0         0         0         0              1   \n",
              "4         0         0         0         0              1   \n",
              "\n",
              "   provider_CenturyLink  provider_EarthLink  provider_Verizon  \\\n",
              "0                     0                   0                 0   \n",
              "1                     0                   0                 0   \n",
              "2                     0                   0                 0   \n",
              "3                     0                   0                 0   \n",
              "4                     0                   0                 0   \n",
              "\n",
              "   technology_Fiber  technology_Not Fiber  \n",
              "0                 0                     1  \n",
              "1                 0                     1  \n",
              "2                 0                     1  \n",
              "3                 0                     1  \n",
              "4                 1                     0  \n",
              "\n",
              "[5 rows x 116 columns]"
            ]
          },
          "execution_count": 48,
          "metadata": {},
          "output_type": "execute_result"
        }
      ],
      "source": [
        "df.head()"
      ]
    },
    {
      "cell_type": "code",
      "execution_count": null,
      "id": "10b42a2e",
      "metadata": {
        "id": "10b42a2e"
      },
      "outputs": [],
      "source": [
        "df=df.drop(['technology_Not Fiber'],axis=1)"
      ]
    },
    {
      "cell_type": "code",
      "execution_count": null,
      "id": "85a802d6",
      "metadata": {
        "id": "85a802d6",
        "outputId": "4b0f33ec-6d5c-4dcc-d5aa-8b716c34c647"
      },
      "outputs": [
        {
          "name": "stdout",
          "output_type": "stream",
          "text": [
            "count    1.187451e+06\n",
            "mean     5.242945e+01\n",
            "std      6.436187e+00\n",
            "min      0.000000e+00\n",
            "25%      4.995000e+01\n",
            "50%      5.500000e+01\n",
            "75%      5.500000e+01\n",
            "max      1.149900e+02\n",
            "Name: price, dtype: float64\n",
            "\n",
            "\n"
          ]
        },
        {
          "data": {
            "image/png": "[encoded data removed]",
            "text/plain": [
              "<Figure size 640x480 with 1 Axes>"
            ]
          },
          "metadata": {},
          "output_type": "display_data"
        }
      ],
      "source": [
        "print(df['price'].describe()) # Describe output variable\n",
        "print('\\n')\n",
        "px = sns.distplot(df['price']) #check distribution of the output variable"
      ]
    },
    {
      "cell_type": "code",
      "execution_count": null,
      "id": "b8954372",
      "metadata": {
        "id": "b8954372",
        "outputId": "be0f18fd-7742-4486-f9eb-1e9e648c9ad6"
      },
      "outputs": [
        {
          "data": {
            "image/png": "[encoded data removed]",
            "text/plain": [
              "<Figure size 1600x600 with 2 Axes>"
            ]
          },
          "metadata": {},
          "output_type": "display_data"
        }
      ],
      "source": [
        "#scatter plots to check how speed_down and speed_up variables are related to price\n",
        "\n",
        "fig, pxs = plt.subplots(ncols=2, figsize= (16, 6)) # Divide the plotting area into sub-areas\n",
        "\n",
        "plt.subplot(1, 2, 1) # First plot\n",
        "px = sns.scatterplot(x='speed_down', y='price', data=df) # scatter plot for x='speed_down', y='price'\n",
        "\n",
        "plt.subplot(1, 2, 2) #Second plot\n",
        "px = sns.scatterplot(x='speed_up', y='price', data=df) # scatter plot for x='speed_up', y='price'"
      ]
    },
    {
      "cell_type": "code",
      "execution_count": null,
      "id": "6a97089e",
      "metadata": {
        "id": "6a97089e",
        "outputId": "50406934-2c32-4cba-b69a-26e7b6e8fc54"
      },
      "outputs": [
        {
          "data": {
            "image/png": "[encoded data removed]",
            "text/plain": [
              "<Figure size 800x600 with 1 Axes>"
            ]
          },
          "metadata": {},
          "output_type": "display_data"
        }
      ],
      "source": [
        "#Box plot to see how provider variable is related to price\n",
        "f, ppx = plt.subplots(figsize=(8, 6))\n",
        "fig = sns.boxplot(x='technology', y=\"price\", data=df) # plots the data on a box plot\n",
        "fig.axis(ymin=0, ymax=120); # sets the limit for y axis"
      ]
    },
    {
      "cell_type": "code",
      "execution_count": null,
      "id": "78e9ac8f",
      "metadata": {
        "id": "78e9ac8f",
        "outputId": "22e9ef58-1406-4ad9-bdfa-04374faa294d"
      },
      "outputs": [
        {
          "data": {
            "image/png": "[encoded data removed]",
            "text/plain": [
              "<Figure size 1200x900 with 2 Axes>"
            ]
          },
          "metadata": {},
          "output_type": "display_data"
        }
      ],
      "source": [
        "#correlation matrix\n",
        "\n",
        "# computes the person correlation among variables\n",
        "corrmat = df.corr()\n",
        "\n",
        "# returns highly correlated variables\n",
        "high_c = corrmat[corrmat['price'].abs()>0.5].index\n",
        "\n",
        "# plots a correlation plot\n",
        "f, px = plt.subplots(figsize=(12, 9)) # determines the figure size\n",
        "px = sns.heatmap(corrmat.loc[high_c, high_c], vmax=.8, square=True, cmap=\"Blues\") # creates a heatmap using the correlation matrix"
      ]
    },
    {
      "cell_type": "code",
      "execution_count": null,
      "id": "1d3830f5",
      "metadata": {
        "id": "1d3830f5",
        "outputId": "84420cff-b21e-4f5d-b7f7-d8fdbe7708e7"
      },
      "outputs": [
        {
          "data": {
            "text/html": [
              "<div>\n",
              "<style scoped>\n",
              "    .dataframe tbody tr th:only-of-type {\n",
              "        vertical-align: middle;\n",
              "    }\n",
              "\n",
              "    .dataframe tbody tr th {\n",
              "        vertical-align: top;\n",
              "    }\n",
              "\n",
              "    .dataframe thead th {\n",
              "        text-align: right;\n",
              "    }\n",
              "</style>\n",
              "<table border=\"1\" class=\"dataframe\">\n",
              "  <thead>\n",
              "    <tr style=\"text-align: right;\">\n",
              "      <th></th>\n",
              "      <th>block_group</th>\n",
              "      <th>speed_down</th>\n",
              "      <th>speed_up</th>\n",
              "      <th>price</th>\n",
              "      <th>fastest_speed_down</th>\n",
              "      <th>fastest_speed_price</th>\n",
              "      <th>income_lmi</th>\n",
              "      <th>ppl_per_sq_mile</th>\n",
              "      <th>n_providers</th>\n",
              "      <th>income_dollars_below_median</th>\n",
              "      <th>...</th>\n",
              "      <th>state_VA</th>\n",
              "      <th>state_WA</th>\n",
              "      <th>state_WI</th>\n",
              "      <th>state_WV</th>\n",
              "      <th>state_WY</th>\n",
              "      <th>provider_AT&amp;T</th>\n",
              "      <th>provider_CenturyLink</th>\n",
              "      <th>provider_EarthLink</th>\n",
              "      <th>provider_Verizon</th>\n",
              "      <th>technology_Fiber</th>\n",
              "    </tr>\n",
              "  </thead>\n",
              "  <tbody>\n",
              "    <tr>\n",
              "      <th>price</th>\n",
              "      <td>-0.134311</td>\n",
              "      <td>-0.374311</td>\n",
              "      <td>-0.381319</td>\n",
              "      <td>1.000000</td>\n",
              "      <td>0.160400</td>\n",
              "      <td>0.153824</td>\n",
              "      <td>0.016565</td>\n",
              "      <td>-0.401236</td>\n",
              "      <td>0.149585</td>\n",
              "      <td>-0.001945</td>\n",
              "      <td>...</td>\n",
              "      <td>-0.177647</td>\n",
              "      <td>-0.061482</td>\n",
              "      <td>0.117567</td>\n",
              "      <td>0.045875</td>\n",
              "      <td>-0.021551</td>\n",
              "      <td>0.271471</td>\n",
              "      <td>-0.159588</td>\n",
              "      <td>0.506188</td>\n",
              "      <td>-0.790401</td>\n",
              "      <td>0.016879</td>\n",
              "    </tr>\n",
              "    <tr>\n",
              "      <th>state_NY</th>\n",
              "      <td>0.140771</td>\n",
              "      <td>0.453398</td>\n",
              "      <td>0.455167</td>\n",
              "      <td>-0.521847</td>\n",
              "      <td>0.013591</td>\n",
              "      <td>0.080710</td>\n",
              "      <td>-0.015447</td>\n",
              "      <td>0.613305</td>\n",
              "      <td>-0.055734</td>\n",
              "      <td>0.009457</td>\n",
              "      <td>...</td>\n",
              "      <td>-0.034692</td>\n",
              "      <td>-0.052789</td>\n",
              "      <td>-0.050325</td>\n",
              "      <td>-0.010802</td>\n",
              "      <td>-0.018517</td>\n",
              "      <td>-0.222655</td>\n",
              "      <td>-0.138168</td>\n",
              "      <td>-0.235903</td>\n",
              "      <td>0.677485</td>\n",
              "      <td>0.259454</td>\n",
              "    </tr>\n",
              "    <tr>\n",
              "      <th>provider_EarthLink</th>\n",
              "      <td>-0.076076</td>\n",
              "      <td>-0.472480</td>\n",
              "      <td>-0.430316</td>\n",
              "      <td>0.506188</td>\n",
              "      <td>0.041604</td>\n",
              "      <td>0.140327</td>\n",
              "      <td>0.022304</td>\n",
              "      <td>-0.189301</td>\n",
              "      <td>0.031576</td>\n",
              "      <td>-0.019155</td>\n",
              "      <td>...</td>\n",
              "      <td>-0.076628</td>\n",
              "      <td>0.021567</td>\n",
              "      <td>0.042568</td>\n",
              "      <td>0.045792</td>\n",
              "      <td>0.003495</td>\n",
              "      <td>-0.491805</td>\n",
              "      <td>-0.305187</td>\n",
              "      <td>1.000000</td>\n",
              "      <td>-0.348204</td>\n",
              "      <td>0.210132</td>\n",
              "    </tr>\n",
              "    <tr>\n",
              "      <th>provider_Verizon</th>\n",
              "      <td>0.175360</td>\n",
              "      <td>0.528043</td>\n",
              "      <td>0.538663</td>\n",
              "      <td>-0.790401</td>\n",
              "      <td>-0.028632</td>\n",
              "      <td>0.033688</td>\n",
              "      <td>-0.023612</td>\n",
              "      <td>0.531752</td>\n",
              "      <td>-0.100825</td>\n",
              "      <td>0.014210</td>\n",
              "      <td>...</td>\n",
              "      <td>0.220065</td>\n",
              "      <td>-0.077918</td>\n",
              "      <td>-0.074282</td>\n",
              "      <td>-0.015945</td>\n",
              "      <td>-0.027332</td>\n",
              "      <td>-0.328650</td>\n",
              "      <td>-0.203942</td>\n",
              "      <td>-0.348204</td>\n",
              "      <td>1.000000</td>\n",
              "      <td>0.262709</td>\n",
              "    </tr>\n",
              "  </tbody>\n",
              "</table>\n",
              "<p>4 rows × 114 columns</p>\n",
              "</div>"
            ],
            "text/plain": [
              "                    block_group  speed_down  speed_up     price  \\\n",
              "price                 -0.134311   -0.374311 -0.381319  1.000000   \n",
              "state_NY               0.140771    0.453398  0.455167 -0.521847   \n",
              "provider_EarthLink    -0.076076   -0.472480 -0.430316  0.506188   \n",
              "provider_Verizon       0.175360    0.528043  0.538663 -0.790401   \n",
              "\n",
              "                    fastest_speed_down  fastest_speed_price  income_lmi  \\\n",
              "price                         0.160400             0.153824    0.016565   \n",
              "state_NY                      0.013591             0.080710   -0.015447   \n",
              "provider_EarthLink            0.041604             0.140327    0.022304   \n",
              "provider_Verizon             -0.028632             0.033688   -0.023612   \n",
              "\n",
              "                    ppl_per_sq_mile  n_providers  income_dollars_below_median  \\\n",
              "price                     -0.401236     0.149585                    -0.001945   \n",
              "state_NY                   0.613305    -0.055734                     0.009457   \n",
              "provider_EarthLink        -0.189301     0.031576                    -0.019155   \n",
              "provider_Verizon           0.531752    -0.100825                     0.014210   \n",
              "\n",
              "                    ...  state_VA  state_WA  state_WI  state_WV  state_WY  \\\n",
              "price               ... -0.177647 -0.061482  0.117567  0.045875 -0.021551   \n",
              "state_NY            ... -0.034692 -0.052789 -0.050325 -0.010802 -0.018517   \n",
              "provider_EarthLink  ... -0.076628  0.021567  0.042568  0.045792  0.003495   \n",
              "provider_Verizon    ...  0.220065 -0.077918 -0.074282 -0.015945 -0.027332   \n",
              "\n",
              "                    provider_AT&T  provider_CenturyLink  provider_EarthLink  \\\n",
              "price                    0.271471             -0.159588            0.506188   \n",
              "state_NY                -0.222655             -0.138168           -0.235903   \n",
              "provider_EarthLink      -0.491805             -0.305187            1.000000   \n",
              "provider_Verizon        -0.328650             -0.203942           -0.348204   \n",
              "\n",
              "                    provider_Verizon  technology_Fiber  \n",
              "price                      -0.790401          0.016879  \n",
              "state_NY                    0.677485          0.259454  \n",
              "provider_EarthLink         -0.348204          0.210132  \n",
              "provider_Verizon            1.000000          0.262709  \n",
              "\n",
              "[4 rows x 114 columns]"
            ]
          },
          "execution_count": 54,
          "metadata": {},
          "output_type": "execute_result"
        }
      ],
      "source": [
        "corrmat[corrmat['price'].abs()>=0.5]"
      ]
    },
    {
      "cell_type": "code",
      "execution_count": null,
      "id": "d2fcfec3",
      "metadata": {
        "id": "d2fcfec3"
      },
      "outputs": [],
      "source": [
        "df=df.drop(['technology'],axis=1)"
      ]
    },
    {
      "cell_type": "code",
      "execution_count": null,
      "id": "a7c2aac8",
      "metadata": {
        "id": "a7c2aac8",
        "outputId": "e6cf6a1f-e016-43be-8b28-e645152a4b78"
      },
      "outputs": [
        {
          "name": "stdout",
          "output_type": "stream",
          "text": [
            "F-statistic: 76529149.92419697\n",
            "P-value: 0.0\n"
          ]
        },
        {
          "data": {
            "image/png": "[encoded data removed]",
            "text/plain": [
              "<Figure size 640x480 with 1 Axes>"
            ]
          },
          "metadata": {},
          "output_type": "display_data"
        }
      ],
      "source": [
        "# Extract the \"price\" and \"technology\" columns from the DataFrame\n",
        "price = df[\"price\"]\n",
        "technology = df[\"technology_Fiber\"]\n",
        "\n",
        "# Perform the ANOVA test\n",
        "f_statistic, p_value = f_oneway(price, technology)\n",
        "\n",
        "# Print the results of the ANOVA test\n",
        "print(\"F-statistic:\", f_statistic)\n",
        "print(\"P-value:\", p_value)\n",
        "\n",
        "# Plot the scatterplot\n",
        "plt.scatter(price, technology)\n",
        "plt.xlabel(\"Price\")\n",
        "plt.ylabel(\"Technology\")\n",
        "plt.show()"
      ]
    },
    {
      "cell_type": "code",
      "execution_count": null,
      "id": "d29f999e",
      "metadata": {
        "id": "d29f999e",
        "outputId": "6808678b-eda7-4e6c-eb68-c679360646ed"
      },
      "outputs": [
        {
          "data": {
            "text/plain": [
              "1    726814\n",
              "0    460637\n",
              "Name: technology_Fiber, dtype: int64"
            ]
          },
          "execution_count": 57,
          "metadata": {},
          "output_type": "execute_result"
        }
      ],
      "source": [
        "df['technology_Fiber'].value_counts()"
      ]
    },
    {
      "cell_type": "code",
      "execution_count": null,
      "id": "e6545d7e",
      "metadata": {
        "id": "e6545d7e"
      },
      "outputs": [],
      "source": [
        "os = SMOTE(random_state=0) # Smote technique to balance the data\n",
        "\n",
        "input_var = list(set(df.columns) - set(['technology_Fiber'])) # sets the input var\n",
        "\n",
        "X, Y = os.fit_resample(df[df.columns.difference(['technology_Fiber'])], df['technology_Fiber']) # oversamples the data\n",
        "X = pd.DataFrame(X, columns = input_var) # data frame containing the input variables after balancing\n",
        "Y = pd.DataFrame(Y, columns = ['technology_Fiber']) # dataframe containing the output variable 'technology_Fiber' after balancing\n",
        "\n",
        "df = pd.concat([X, Y], axis=1) # Combine X and Y"
      ]
    },
    {
      "cell_type": "code",
      "execution_count": null,
      "id": "7853c7df",
      "metadata": {
        "id": "7853c7df",
        "outputId": "13c816d1-f1df-40a6-aba6-0968565802b5"
      },
      "outputs": [
        {
          "data": {
            "text/plain": [
              "0    726814\n",
              "1    726814\n",
              "Name: technology_Fiber, dtype: int64"
            ]
          },
          "execution_count": 59,
          "metadata": {},
          "output_type": "execute_result"
        }
      ],
      "source": [
        "df['technology_Fiber'].value_counts()"
      ]
    },
    {
      "cell_type": "code",
      "execution_count": null,
      "id": "2276c9d7",
      "metadata": {
        "id": "2276c9d7",
        "outputId": "1bc082ee-a5e8-4643-86c8-1e1e6543c782"
      },
      "outputs": [
        {
          "name": "stdout",
          "output_type": "stream",
          "text": [
            "[84.55854252]\n"
          ]
        }
      ],
      "source": [
        "from sklearn import datasets, linear_model, metrics\n",
        "\n",
        "X = df[['provider_Verizon','speed_up','state_NY']] # Define input variables\n",
        "y = df['price'] # Define the target variable or response variable\n",
        "\n",
        "# create linear regression object\n",
        "regression = linear_model.LinearRegression()\n",
        "\n",
        "# Fit the model\n",
        "regression.fit(X, y)\n",
        "\n",
        "#Predict the price when the provider is not Verizon, upload speed is 50 mbps and the client is in New York\n",
        "predicted_price = regression.predict([[0,50,1]])\n",
        "\n",
        "print(predicted_price)"
      ]
    },
    {
      "cell_type": "code",
      "execution_count": null,
      "id": "b896ade7",
      "metadata": {
        "id": "b896ade7",
        "outputId": "064b2727-2472-4e30-b517-6c2228eb7109"
      },
      "outputs": [
        {
          "name": "stdout",
          "output_type": "stream",
          "text": [
            "Coefficients:  [-13.72241971   0.59320069   0.26845993]\n",
            "Variance score: 0.6105308692572993\n",
            "R2 value:61.05\n"
          ]
        }
      ],
      "source": [
        "# regression coefficients\n",
        "print('Coefficients: ', regression.coef_)\n",
        "\n",
        "print('Variance score: {}'.format(regression.score(X, y)))\n",
        "\n",
        "print('R2 value:' +str(round(100*regression.score(X, y),2)))"
      ]
    },
    {
      "cell_type": "code",
      "execution_count": null,
      "id": "cda1a063",
      "metadata": {
        "id": "cda1a063",
        "outputId": "f9e11b63-85c1-4619-e373-9bc6b1a4c3ff"
      },
      "outputs": [
        {
          "name": "stdout",
          "output_type": "stream",
          "text": [
            "   actual  predicted     error\n",
            "0    55.0  54.200666  0.799334\n",
            "1    55.0  54.203571  0.796429\n",
            "2    55.0  54.200666  0.799334\n",
            "3    55.0  54.203571  0.796429\n",
            "4    55.0  55.613350 -0.613350\n"
          ]
        }
      ],
      "source": [
        "pred_vs_actual = pd.DataFrame()\n",
        "pred_vs_actual['actual'] = y\n",
        "pred_vs_actual['predicted'] = regression.predict(X)\n",
        "pred_vs_actual['error'] = pred_vs_actual['actual'] - pred_vs_actual['predicted']\n",
        "print(pred_vs_actual.head())"
      ]
    },
    {
      "cell_type": "code",
      "execution_count": null,
      "id": "35a64b4b",
      "metadata": {
        "id": "35a64b4b",
        "outputId": "a92adfb3-980d-4187-974f-d7e977cf53ce"
      },
      "outputs": [
        {
          "data": {
            "image/png": "[encoded data removed]",
            "text/plain": [
              "<Figure size 1200x600 with 1 Axes>"
            ]
          },
          "metadata": {},
          "output_type": "display_data"
        }
      ],
      "source": [
        "fig, lx = plt.subplots(figsize=(12,6)) # Determines the figure size\n",
        "lx = sns.scatterplot(x='error', y='predicted', data=pred_vs_actual)\n",
        "#plots the error vs. predicted\n",
        "limits = lx.set(xlim=(-100, 100), ylim=(0, 100)) #sets the limit for x and y axis"
      ]
    },
    {
      "cell_type": "code",
      "execution_count": null,
      "id": "abd7a167",
      "metadata": {
        "id": "abd7a167",
        "outputId": "8952d8c2-bf69-44b6-aa97-d58133000cef"
      },
      "outputs": [
        {
          "data": {
            "image/png": "[encoded data removed]",
            "text/plain": [
              "<Figure size 1200x600 with 1 Axes>"
            ]
          },
          "metadata": {},
          "output_type": "display_data"
        }
      ],
      "source": [
        "fig, lx = plt.subplots(figsize=(12,6)) # Determines the figure size\n",
        "\n",
        "\n",
        "_, (__, ___, r) = sp.stats.probplot(pred_vs_actual['error'], plot=lx, fit=True)\n",
        "# generates the normality plot\n",
        "\n",
        "limits = lx.set(ylim=(-100, 100)) # sets the limits for the graph"
      ]
    },
    {
      "cell_type": "code",
      "execution_count": null,
      "id": "eae6b8f0",
      "metadata": {
        "id": "eae6b8f0"
      },
      "outputs": [],
      "source": [
        "input_variables = set(df.columns) - set(['technology_Fiber'])\n",
        "X = df[input_variables]\n",
        "Y = df['technology_Fiber'] # Target variable for logistic regression model\n",
        "\n",
        "# splitting X and y into training and testing sets\n",
        "X_train, X_test, Y_train, Y_test = train_test_split(X, Y, test_size=0.30, random_state=42) # Split the data frame in test and train\n",
        ""
      ]
    },
    {
      "cell_type": "code",
      "execution_count": null,
      "id": "227c1142",
      "metadata": {
        "id": "227c1142",
        "outputId": "5b6979e2-7ca3-42b5-8035-74731de0bec4"
      },
      "outputs": [
        {
          "data": {
            "text/html": [
              "<style>#sk-container-id-1 {color: black;background-color: white;}#sk-container-id-1 pre{padding: 0;}#sk-container-id-1 div.sk-toggleable {background-color: white;}#sk-container-id-1 label.sk-toggleable__label {cursor: pointer;display: block;width: 100%;margin-bottom: 0;padding: 0.3em;box-sizing: border-box;text-align: center;}#sk-container-id-1 label.sk-toggleable__label-arrow:before {content: \"▸\";float: left;margin-right: 0.25em;color: #696969;}#sk-container-id-1 label.sk-toggleable__label-arrow:hover:before {color: black;}#sk-container-id-1 div.sk-estimator:hover label.sk-toggleable__label-arrow:before {color: black;}#sk-container-id-1 div.sk-toggleable__content {max-height: 0;max-width: 0;overflow: hidden;text-align: left;background-color: #f0f8ff;}#sk-container-id-1 div.sk-toggleable__content pre {margin: 0.2em;color: black;border-radius: 0.25em;background-color: #f0f8ff;}#sk-container-id-1 input.sk-toggleable__control:checked~div.sk-toggleable__content {max-height: 200px;max-width: 100%;overflow: auto;}#sk-container-id-1 input.sk-toggleable__control:checked~label.sk-toggleable__label-arrow:before {content: \"▾\";}#sk-container-id-1 div.sk-estimator input.sk-toggleable__control:checked~label.sk-toggleable__label {background-color: #d4ebff;}#sk-container-id-1 div.sk-label input.sk-toggleable__control:checked~label.sk-toggleable__label {background-color: #d4ebff;}#sk-container-id-1 input.sk-hidden--visually {border: 0;clip: rect(1px 1px 1px 1px);clip: rect(1px, 1px, 1px, 1px);height: 1px;margin: -1px;overflow: hidden;padding: 0;position: absolute;width: 1px;}#sk-container-id-1 div.sk-estimator {font-family: monospace;background-color: #f0f8ff;border: 1px dotted black;border-radius: 0.25em;box-sizing: border-box;margin-bottom: 0.5em;}#sk-container-id-1 div.sk-estimator:hover {background-color: #d4ebff;}#sk-container-id-1 div.sk-parallel-item::after {content: \"\";width: 100%;border-bottom: 1px solid gray;flex-grow: 1;}#sk-container-id-1 div.sk-label:hover label.sk-toggleable__label {background-color: #d4ebff;}#sk-container-id-1 div.sk-serial::before {content: \"\";position: absolute;border-left: 1px solid gray;box-sizing: border-box;top: 0;bottom: 0;left: 50%;z-index: 0;}#sk-container-id-1 div.sk-serial {display: flex;flex-direction: column;align-items: center;background-color: white;padding-right: 0.2em;padding-left: 0.2em;position: relative;}#sk-container-id-1 div.sk-item {position: relative;z-index: 1;}#sk-container-id-1 div.sk-parallel {display: flex;align-items: stretch;justify-content: center;background-color: white;position: relative;}#sk-container-id-1 div.sk-item::before, #sk-container-id-1 div.sk-parallel-item::before {content: \"\";position: absolute;border-left: 1px solid gray;box-sizing: border-box;top: 0;bottom: 0;left: 50%;z-index: -1;}#sk-container-id-1 div.sk-parallel-item {display: flex;flex-direction: column;z-index: 1;position: relative;background-color: white;}#sk-container-id-1 div.sk-parallel-item:first-child::after {align-self: flex-end;width: 50%;}#sk-container-id-1 div.sk-parallel-item:last-child::after {align-self: flex-start;width: 50%;}#sk-container-id-1 div.sk-parallel-item:only-child::after {width: 0;}#sk-container-id-1 div.sk-dashed-wrapped {border: 1px dashed gray;margin: 0 0.4em 0.5em 0.4em;box-sizing: border-box;padding-bottom: 0.4em;background-color: white;}#sk-container-id-1 div.sk-label label {font-family: monospace;font-weight: bold;display: inline-block;line-height: 1.2em;}#sk-container-id-1 div.sk-label-container {text-align: center;}#sk-container-id-1 div.sk-container {/* jupyter's `normalize.less` sets `[hidden] { display: none; }` but bootstrap.min.css set `[hidden] { display: none !important; }` so we also need the `!important` here to be able to override the default hidden behavior on the sphinx rendered scikit-learn.org. See: https://github.com/scikit-learn/scikit-learn/issues/21755 */display: inline-block !important;position: relative;}#sk-container-id-1 div.sk-text-repr-fallback {display: none;}</style><div id=\"sk-container-id-1\" class=\"sk-top-container\"><div class=\"sk-text-repr-fallback\"><pre>LogisticRegression(multi_class=&#x27;ovr&#x27;, random_state=0)</pre><b>In a Jupyter environment, please rerun this cell to show the HTML representation or trust the notebook. <br />On GitHub, the HTML representation is unable to render, please try loading this page with nbviewer.org.</b></div><div class=\"sk-container\" hidden><div class=\"sk-item\"><div class=\"sk-estimator sk-toggleable\"><input class=\"sk-toggleable__control sk-hidden--visually\" id=\"sk-estimator-id-1\" type=\"checkbox\" checked><label for=\"sk-estimator-id-1\" class=\"sk-toggleable__label sk-toggleable__label-arrow\">LogisticRegression</label><div class=\"sk-toggleable__content\"><pre>LogisticRegression(multi_class=&#x27;ovr&#x27;, random_state=0)</pre></div></div></div></div></div>"
            ],
            "text/plain": [
              "LogisticRegression(multi_class='ovr', random_state=0)"
            ]
          },
          "execution_count": 66,
          "metadata": {},
          "output_type": "execute_result"
        }
      ],
      "source": [
        "# Logistic Regression\n",
        "lr = LogisticRegression(random_state=0, solver='lbfgs', multi_class='ovr') # creates a lR instance\n",
        "lr.fit(X_train, Y_train)"
      ]
    },
    {
      "cell_type": "code",
      "execution_count": null,
      "id": "d77a6974",
      "metadata": {
        "id": "d77a6974",
        "outputId": "8e8656fa-a225-4302-8a01-ed8edc404628"
      },
      "outputs": [
        {
          "data": {
            "text/plain": [
              "array([0, 1], dtype=uint8)"
            ]
          },
          "execution_count": 67,
          "metadata": {},
          "output_type": "execute_result"
        }
      ],
      "source": [
        "lr.classes_"
      ]
    },
    {
      "cell_type": "code",
      "execution_count": null,
      "id": "5c62dd75",
      "metadata": {
        "id": "5c62dd75",
        "outputId": "37570cc5-c72b-4d6a-a35c-cc044a0391ae"
      },
      "outputs": [
        {
          "data": {
            "text/plain": [
              "array([[ 1.40800499e+00, -3.56239796e+00,  1.34391091e+00,\n",
              "         1.29166755e+00,  1.47282989e+00,  6.42826826e-01,\n",
              "        -3.42723856e+00, -3.61111096e+00, -1.73127282e+00,\n",
              "         2.98167220e-01,  1.37144337e+00,  1.45871265e-02,\n",
              "         1.05363930e+00, -7.79613278e-01,  1.45586358e+00,\n",
              "         1.06064460e+00,  1.94324535e+00,  1.09722694e+00,\n",
              "         3.08051391e+01, -3.42723856e+00, -9.69062088e-01,\n",
              "        -1.09735053e+00,  3.29394310e-01,  1.29166755e+00,\n",
              "         4.24141098e-01,  9.48499862e-01, -1.62797777e+00,\n",
              "         1.40800499e+00,  1.16690680e-01,  3.02604885e+00,\n",
              "        -1.73127282e+00, -9.69062088e-01,  1.47282989e+00,\n",
              "        -2.04428462e+00, -3.56239796e+00, -2.57416229e+00,\n",
              "         1.48105185e-02, -2.40233977e+00,  9.29448019e-02,\n",
              "         1.33348127e+01, -1.47345906e+00,  1.52150876e+00,\n",
              "         1.41559768e+00,  1.31529740e+00,  8.47381681e-01,\n",
              "        -2.45349740e+00, -1.62797777e+00,  1.52150876e+00,\n",
              "        -1.69654307e+00,  1.32224055e-01,  1.32224055e-01,\n",
              "         2.35963107e+01, -2.45349740e+00,  1.43683835e-01,\n",
              "        -2.75372342e-01,  5.37660178e-01,  1.19304299e+00,\n",
              "         1.22810961e+00,  9.48499862e-01,  1.19304299e+00,\n",
              "         1.22810961e+00,  2.99046987e+00, -2.31807275e+00,\n",
              "         1.45871265e-02, -2.57416229e+00,  9.90150011e-01,\n",
              "         1.43683835e-01, -2.40233977e+00,  1.31529740e+00,\n",
              "         8.99198780e-02, -1.42155982e-01,  2.10928459e-01,\n",
              "         1.33843009e-01,  8.47381681e-01,  1.29141212e+00,\n",
              "        -1.47345906e+00, -1.42208242e+01,  7.60520788e-01,\n",
              "         1.39599236e+01, -3.67154188e+00,  6.09603407e+00,\n",
              "         3.29394310e-01,  1.09722694e+00,  9.29448019e-02,\n",
              "        -2.32967188e+00,  5.37660178e-01,  1.29141212e+00,\n",
              "        -9.53103401e-01, -1.00640882e+01,  1.34391091e+00,\n",
              "         2.70420320e+01,  9.21780083e-01,  1.06064460e+00,\n",
              "         1.41559768e+00,  7.47712330e+00,  3.08038975e+00,\n",
              "         1.25628421e-01,  1.05363930e+00,  1.07037871e-01,\n",
              "         3.42014119e-01, -2.32967188e+00, -1.69654307e+00,\n",
              "         2.44039228e+00, -9.53103401e-01,  2.24643557e+00,\n",
              "        -3.67154188e+00,  1.45586358e+00, -2.31807275e+00,\n",
              "        -2.04428462e+00, -1.09735053e+00,  1.37144337e+00,\n",
              "        -1.42155982e-01, -3.61111096e+00]])"
            ]
          },
          "execution_count": 68,
          "metadata": {},
          "output_type": "execute_result"
        }
      ],
      "source": [
        "lr.intercept_\n",
        "lr.coef_"
      ]
    },
    {
      "cell_type": "code",
      "execution_count": null,
      "id": "34a4da83",
      "metadata": {
        "id": "34a4da83"
      },
      "outputs": [],
      "source": [
        "def get_performance(actual_Y, pred_Y):\n",
        "    cm = confusion_matrix(actual_Y, pred_Y)\n",
        "    total = sum(sum(cm))\n",
        "    accuracy = (cm[0,0]+cm[1,1])/total\n",
        "    sensitivity = cm[0,0]/(cm[0,0]+cm[0,1])\n",
        "    specificity = cm[1,1]/(cm[1,0]+cm[1,1])\n",
        "    return accuracy, sensitivity, specificity"
      ]
    },
    {
      "cell_type": "code",
      "execution_count": null,
      "id": "497e81d7",
      "metadata": {
        "id": "497e81d7",
        "outputId": "616042eb-de81-4cae-e219-3854cbd4d128"
      },
      "outputs": [
        {
          "data": {
            "text/plain": [
              "array([1, 1, 1, ..., 1, 1, 0], dtype=uint8)"
            ]
          },
          "execution_count": 70,
          "metadata": {},
          "output_type": "execute_result"
        }
      ],
      "source": [
        "pred_Y_lr = lr.predict(X_test)\n",
        "pred_Y_lr"
      ]
    },
    {
      "cell_type": "code",
      "execution_count": null,
      "id": "b0ed0a1d",
      "metadata": {
        "id": "b0ed0a1d",
        "outputId": "40d3d124-3485-4a19-ba7f-b778643e879e"
      },
      "outputs": [
        {
          "data": {
            "text/plain": [
              "(0.995322055818881, 0.997328494379757, 0.9933122188561462)"
            ]
          },
          "execution_count": 71,
          "metadata": {},
          "output_type": "execute_result"
        }
      ],
      "source": [
        "accuracy_lr, sensitivity_lr, specificity_lr = get_performance(Y_test, pred_Y_lr)\n",
        "accuracy_lr, sensitivity_lr, specificity_lr"
      ]
    },
    {
      "cell_type": "code",
      "execution_count": null,
      "id": "9c18e7f7",
      "metadata": {
        "id": "9c18e7f7",
        "outputId": "d7f8abec-9243-4ccf-dc0b-ea2bbd9ab8ac"
      },
      "outputs": [
        {
          "data": {
            "text/plain": [
              "array([[0.00000000e+00, 1.00000000e+00],\n",
              "       [0.00000000e+00, 1.00000000e+00],\n",
              "       [0.00000000e+00, 1.00000000e+00],\n",
              "       ...,\n",
              "       [0.00000000e+00, 1.00000000e+00],\n",
              "       [0.00000000e+00, 1.00000000e+00],\n",
              "       [9.99999999e-01, 5.87350855e-10]])"
            ]
          },
          "execution_count": 72,
          "metadata": {},
          "output_type": "execute_result"
        }
      ],
      "source": [
        "score_Y_lr = lr.predict_proba(X_test)\n",
        "score_Y_lr"
      ]
    },
    {
      "cell_type": "code",
      "execution_count": null,
      "id": "5c976e3a",
      "metadata": {
        "id": "5c976e3a",
        "outputId": "adc9f11a-5e24-467a-a765-eb3e8c9ab27a"
      },
      "outputs": [
        {
          "data": {
            "image/png": "[encoded data removed]",
            "text/plain": [
              "<Figure size 640x480 with 1 Axes>"
            ]
          },
          "metadata": {},
          "output_type": "display_data"
        }
      ],
      "source": [
        "score_Y_lr = lr.predict_proba(X_test)\n",
        "fpr, tpr, _ = roc_curve(Y_test, score_Y_lr[:,1])\n",
        "roc_auc = auc(fpr, tpr)\n",
        "\n",
        "plt.figure()\n",
        "lw = 2\n",
        "plt.plot(fpr, tpr, color='red',lw=lw, label='ROC curve (area = %0.2f)' % roc_auc)\n",
        "plt.plot([0, 1], [0, 1], color='navy', lw=lw, linestyle='--')\n",
        "plt.xlim([0.0, 1.0])\n",
        "plt.ylim([0.0, 1.05])\n",
        "plt.xlabel('False Positive Rate')\n",
        "plt.ylabel('True Positive Rate')\n",
        "plt.title('Receiver operating characteristic example')\n",
        "plt.legend(loc=\"lower right\")\n",
        "plt.show()"
      ]
    },
    {
      "cell_type": "code",
      "execution_count": null,
      "id": "0e34a8e0",
      "metadata": {
        "id": "0e34a8e0",
        "outputId": "9084d2e2-669d-43f5-d0ec-c71298ca9003"
      },
      "outputs": [
        {
          "data": {
            "text/plain": [
              "0.9996043508585165"
            ]
          },
          "execution_count": 74,
          "metadata": {},
          "output_type": "execute_result"
        }
      ],
      "source": [
        "roc_auc"
      ]
    }
  ],
  "metadata": {
    "kernelspec": {
      "display_name": "Python 3 (ipykernel)",
      "language": "python",
      "name": "python3"
    },
    "language_info": {
      "codemirror_mode": {
        "name": "ipython",
        "version": 3
      },
      "file_extension": ".py",
      "mimetype": "text/x-python",
      "name": "python",
      "nbconvert_exporter": "python",
      "pygments_lexer": "ipython3",
      "version": "3.9.13"
    },
    "colab": {
      "provenance": []
    }
  },
  "nbformat": 4,
  "nbformat_minor": 5
}